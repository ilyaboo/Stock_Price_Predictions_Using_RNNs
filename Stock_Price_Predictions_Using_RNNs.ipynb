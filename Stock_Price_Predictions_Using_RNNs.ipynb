{
  "cells": [
    {
      "cell_type": "markdown",
      "source": [
        "# Introduction\n",
        "\n"
      ],
      "metadata": {
        "id": "nBuBaf-TNGlu"
      }
    },
    {
      "cell_type": "markdown",
      "source": [
        "### Goal\n",
        "\n",
        "The goal of this project is to evaluate different parameters that affect the performance of a Recurrent Neural Network (RNN) aimed at predicting the stock price, build and train the best performing network and evaluate it.\n",
        "\n",
        "For this project I constructed a sequential neural network consisting of two layers:\n",
        "1. RNN layer with 100 units initially (random number, which is tuned later), Rectified Linear Unit (RELU) activtion function, which is commonly used and I belive suits this task, and an input shape that is adjusted dependeing on the input data.\n",
        "2. Regual Dense layer with 1 unit for the output (price prediction).\n",
        "\n",
        "The neural network will be compiled using Adam optimizer to improve the accuracy duing deep learning and will be evaluated using the Mean Squared Error (MSE).\n",
        "\n",
        "```python\n",
        "model = Sequential()\n",
        "model.add(SimpleRNN(units = 100, activation = 'relu', input_shape = (X_train.shape[1], X_train.shape[2])))\n",
        "model.add(Dense(units = 1))\n",
        "model.compile(optimizer = 'adam', loss = 'mean_squared_error')\n",
        "```"
      ],
      "metadata": {
        "id": "gnH6KkxhGW6s"
      }
    },
    {
      "cell_type": "markdown",
      "source": [
        "### This Project Uses the Stock Market Dataset from kaggle.com\n",
        "\n",
        "The dataset is available [here](https://www.kaggle.com/datasets/jacksoncrow/stock-market-dataset). In this project I uploaded the dataset to my Google Drive for convenience."
      ],
      "metadata": {
        "id": "v9kI4YPDGNgV"
      }
    },
    {
      "cell_type": "markdown",
      "source": [
        "# Mounting Google Drive"
      ],
      "metadata": {
        "id": "YGEXcxNYL6Bd"
      }
    },
    {
      "cell_type": "markdown",
      "source": [
        "I use my drive here for easier access to the data."
      ],
      "metadata": {
        "id": "IGBaBPtSGyo6"
      }
    },
    {
      "cell_type": "code",
      "source": [
        "from google.colab import drive\n",
        "drive.mount('/content/drive')"
      ],
      "metadata": {
        "colab": {
          "base_uri": "https://localhost:8080/"
        },
        "id": "ErWjj3rWTjnw",
        "outputId": "8b8dae67-e80d-4a73-b439-c2aae105b79d"
      },
      "execution_count": 12,
      "outputs": [
        {
          "output_type": "stream",
          "name": "stdout",
          "text": [
            "Drive already mounted at /content/drive; to attempt to forcibly remount, call drive.mount(\"/content/drive\", force_remount=True).\n"
          ]
        }
      ]
    },
    {
      "cell_type": "markdown",
      "metadata": {
        "id": "BHAONNLCDnwW"
      },
      "source": [
        "# Imports"
      ]
    },
    {
      "cell_type": "code",
      "execution_count": 13,
      "metadata": {
        "id": "v6Bvmx3kHeeI"
      },
      "outputs": [],
      "source": [
        "# Deep Learning, Neural Networks, RNNs\n",
        "import tensorflow as tf\n",
        "from tensorflow.keras.models import Sequential\n",
        "from tensorflow.keras.layers import SimpleRNN, Dense\n",
        "from sklearn.preprocessing import MinMaxScaler\n",
        "from sklearn.model_selection import train_test_split\n",
        "\n",
        "# Data Managment\n",
        "import numpy as np\n",
        "import pandas as pd\n",
        "\n",
        "# Data Presentation\n",
        "from matplotlib import pyplot as plt\n",
        "\n",
        "# Others\n",
        "import os\n",
        "import random\n",
        "from typing import Union"
      ]
    },
    {
      "cell_type": "markdown",
      "metadata": {
        "id": "bPYknqr7DrzJ"
      },
      "source": [
        "# Loading Data"
      ]
    },
    {
      "cell_type": "markdown",
      "source": [
        "## Data Loading and Cleaning Functions"
      ],
      "metadata": {
        "id": "ljR5T47MNhYT"
      }
    },
    {
      "cell_type": "code",
      "source": [
        "def clean_dataframe(df: pd.DataFrame) -> bool:\n",
        "    \"\"\" function which cleans and modyfies the dataset\n",
        "    the function returns True if the dataframe was cleaned succesfully and can be\n",
        "    used further and False if there are more than two consequent missing values\n",
        "    for some of the inputs \"\"\"\n",
        "\n",
        "    def fill_nan(row: int, column: str) -> Union[int, float]:\n",
        "        \"\"\" helper function which attempts to calculate the value to be\n",
        "        filled into the empty cell at (row, col) by calculating the average\n",
        "        of the previous and next values\n",
        "\n",
        "        if one of the adjacent values is also empty, the function returns None \"\"\"\n",
        "\n",
        "        # checking if the first row\n",
        "        if row == 0:\n",
        "\n",
        "            # checking if the next values does not exist\n",
        "            if pd.isna(df.at[i + 1, column]):\n",
        "                return None\n",
        "            else:\n",
        "                return df.at[i + 1, column]\n",
        "\n",
        "        # checking if the last row\n",
        "        elif row == len(df) - 1:\n",
        "\n",
        "            # checking if the previous value does not exist\n",
        "            if pd.isna(df.at[i - 1, column]):\n",
        "                return None\n",
        "            else:\n",
        "                return df.at[i - 1, column]\n",
        "\n",
        "        # otherwise, calculate the average of the previous and next if possible\n",
        "        else:\n",
        "\n",
        "            if pd.isna(df.at[i - 1, column]) or pd.isna(df.at[i + 1, column]):\n",
        "                return None\n",
        "            else:\n",
        "\n",
        "                # checking if the values are integers\n",
        "                if type(df.at[i - 1, column]) == int:\n",
        "                    return (df.at[i - 1, column] + df.at[i + 1, column]) // 2\n",
        "\n",
        "                # otherwise, assume those are floats\n",
        "                else:\n",
        "                    return (df.at[i - 1, column] + df.at[i + 1, column]) / 2\n",
        "\n",
        "    # iterating over the columns of the dataframe\n",
        "    for column in df.columns:\n",
        "\n",
        "        # iterating over row indices\n",
        "        for i in range(len(df)):\n",
        "\n",
        "            # checking if the cell is NaN\n",
        "            if pd.isna(df.at[i, column]):\n",
        "\n",
        "                # calculating the value to be filled\n",
        "                fill_val = fill_nan(i, column)\n",
        "\n",
        "                # checking if it was impossible to calculate the value\n",
        "                if fill_val == None:\n",
        "\n",
        "                    # function rerutns straight away, as the dataframe\n",
        "                    # has more than 1 empty rows in a row\n",
        "                    return False\n",
        "\n",
        "                # otherwise, fill in the value\n",
        "                df.at[i, column] = fill_val\n",
        "\n",
        "    return True"
      ],
      "metadata": {
        "id": "Q35uAxQ_Nuvg"
      },
      "execution_count": 14,
      "outputs": []
    },
    {
      "cell_type": "code",
      "execution_count": 15,
      "metadata": {
        "id": "SJJOFuvNwXYt"
      },
      "outputs": [],
      "source": [
        "def load_all_stock_data(directory_path: str) -> tuple[list[float], list[float], list[float], list[float], list[float], list[float]]:\n",
        "    \"\"\" function which extracts stock data from all stock price files \"\"\"\n",
        "\n",
        "    # counting the number of files that could not be accessed and could not be cleaned\n",
        "    failed_clean, failes_access = 0, 0\n",
        "\n",
        "    open_vals, high_vals, low_vals, close_vals, adj_close_vals, volume_vals = [], [], [], [], [], []\n",
        "\n",
        "    # iterating over stock price files\n",
        "    for filename in os.listdir(directory_path):\n",
        "\n",
        "        # accessing the CSV file\n",
        "        file_name = directory_path + \"/\" + filename\n",
        "        try:\n",
        "            df = pd.read_csv(file_name)\n",
        "\n",
        "            # checking if clean is unsuccesful\n",
        "            if not clean_dataframe(df):\n",
        "\n",
        "                print(\"Failed to clean:\", filename)\n",
        "                failed_clean += 1\n",
        "                continue\n",
        "        except:\n",
        "\n",
        "            print(\"Failed to load:\", filename)\n",
        "            failes_access += 1\n",
        "            continue\n",
        "\n",
        "        # recording the data\n",
        "        open_vals.append(df[['Open']].values)\n",
        "        high_vals.append(df[['High']].values)\n",
        "        low_vals.append(df[['Low']].values)\n",
        "        close_vals.append(df[['Close']].values)\n",
        "        adj_close_vals.append(df[['Adj Close']].values)\n",
        "        volume_vals.append(df[['Volume']].values)\n",
        "\n",
        "    # printing the report\n",
        "    print()\n",
        "    print(\"Number of files failed to load:\", failes_access)\n",
        "    print(\"Number of files failed to clean:\", failed_clean)\n",
        "\n",
        "    return close_vals, open_vals, high_vals, low_vals, adj_close_vals, volume_vals"
      ]
    },
    {
      "cell_type": "markdown",
      "source": [
        "## Loading Data"
      ],
      "metadata": {
        "id": "GEynUBTpNk6i"
      }
    },
    {
      "cell_type": "code",
      "execution_count": 16,
      "metadata": {
        "colab": {
          "base_uri": "https://localhost:8080/"
        },
        "id": "StwRVK-pzc0x",
        "outputId": "e33d43ba-ee8a-46be-e976-e95108d73b67"
      },
      "outputs": [
        {
          "output_type": "stream",
          "name": "stdout",
          "text": [
            "Failed to clean: SWP.csv\n",
            "Failed to clean: TFII.csv\n",
            "Failed to clean: VXX.csv\n",
            "Failed to clean: WTRG.csv\n",
            "Failed to clean: ZIONO.csv\n",
            "Failed to load: .DS_Store\n",
            "Failed to clean: PCB.csv\n",
            "Failed to clean: PIPR.csv\n",
            "Failed to clean: RHI.csv\n",
            "Failed to clean: RNST.csv\n",
            "Failed to clean: RMI.csv\n",
            "Failed to clean: RNP.csv\n",
            "Failed to clean: MMX.csv\n",
            "Failed to clean: MTA.csv\n",
            "Failed to clean: NLOK.csv\n",
            "Failed to clean: NTR.csv\n",
            "\n",
            "Number of files failed to load: 1\n",
            "Number of files failed to clean: 15\n"
          ]
        }
      ],
      "source": [
        "# loading the data\n",
        "\n",
        "close_vals, open_vals, high_vals, low_vals, adj_close_vals, volume_vals = load_all_stock_data(\"/content/drive/MyDrive/Colab Notebooks/stocks\")"
      ]
    },
    {
      "cell_type": "code",
      "source": [
        "# array containing all types of data and an array containing the names\n",
        "\n",
        "all_data = [close_vals, open_vals, high_vals, low_vals, adj_close_vals, volume_vals]\n",
        "all_data_names = [\"Close\", \"Open\", \"High\", \"Low\", \"Adj Close\", \"Volume\"]"
      ],
      "metadata": {
        "id": "kAiSoVQ-KkBf"
      },
      "execution_count": 17,
      "outputs": []
    },
    {
      "cell_type": "markdown",
      "metadata": {
        "id": "a7-fE5CfSMTf"
      },
      "source": [
        "# Data Functions"
      ]
    },
    {
      "cell_type": "markdown",
      "metadata": {
        "id": "GR53AjguSak8"
      },
      "source": [
        "### Data Preparation Functions"
      ]
    },
    {
      "cell_type": "code",
      "execution_count": 18,
      "metadata": {
        "id": "CoWai8UuSj8i"
      },
      "outputs": [],
      "source": [
        "def get_data_raw(data_arrays: list[list[float]], time_step: int) -> list[list[float]]:\n",
        "    \"\"\" function which extrcts the raw price data, combining\n",
        "    it into cases, using time_step, which represents the number\n",
        "    of days in the past for which the nwtwork has the price data \"\"\"\n",
        "\n",
        "    X, y = [], []\n",
        "\n",
        "    # iterating over companies\n",
        "    for i in range(len(data_arrays)):\n",
        "\n",
        "        # combining all input arrays into a single dataset\n",
        "        combined_data = np.hstack([arr[i] for arr in data_arrays])\n",
        "\n",
        "        # normalizing the dataset\n",
        "        normalized_data = MinMaxScaler(feature_range = (0, 1)).fit_transform(combined_data)\n",
        "\n",
        "        # creating sequences (X) and corresponding targets (y)\n",
        "        for i in range(len(normalized_data) - time_step - 1):\n",
        "\n",
        "            # features of the sequence\n",
        "            X.append(normalized_data[i:(i + time_step), :])\n",
        "\n",
        "            # targets (close prices)\n",
        "            y.append(normalized_data[i + time_step, 0])\n",
        "\n",
        "    return np.array(X), np.array(y)"
      ]
    },
    {
      "cell_type": "code",
      "source": [
        "def get_data_raw_one_company(data_array: list[list[float]], time_step: int) -> list[list[float]]:\n",
        "    \"\"\" function which extrcts the raw price data for one company \"\"\"\n",
        "\n",
        "    X, y = [], []\n",
        "\n",
        "    # combining all input arrays into a single dataset\n",
        "    combined_data = np.hstack(data_array)\n",
        "\n",
        "    # normalizing the dataset\n",
        "    normalized_data = MinMaxScaler(feature_range = (0, 1)).fit_transform(combined_data)\n",
        "\n",
        "    # creating sequences (X) and corresponding targets (y)\n",
        "    for i in range(len(normalized_data) - time_step - 1):\n",
        "\n",
        "        # features of the sequence\n",
        "        X.append(normalized_data[i:(i + time_step), :])\n",
        "\n",
        "        # targets (close prices)\n",
        "        y.append(normalized_data[i + time_step, 0])\n",
        "\n",
        "    return np.array(X), np.array(y)"
      ],
      "metadata": {
        "id": "QZP2IU7GmUIZ"
      },
      "execution_count": 19,
      "outputs": []
    },
    {
      "cell_type": "code",
      "execution_count": 20,
      "metadata": {
        "id": "Kp-z5ThZSoYG"
      },
      "outputs": [],
      "source": [
        "def get_data_delta(data_arrays: list[list[float]], time_step: int) -> list[list[float]]:\n",
        "    \"\"\" function which extrcts the delta price data (price and volume difference),\n",
        "    combining it into cases, using time_step, which represents the number\n",
        "    of days in the past for which the nwtwork has the price data \"\"\"\n",
        "\n",
        "    X, y = [], []\n",
        "\n",
        "    # iterating over companies\n",
        "    for i in range(len(data_arrays)):\n",
        "\n",
        "        # combining all input arrays into a single dataset\n",
        "        combined_data = np.hstack([arr[i] for arr in data_arrays])\n",
        "\n",
        "        # normalizing the dataset for target predictions\n",
        "        normalized_data = MinMaxScaler(feature_range = (0, 1)).fit_transform(combined_data)\n",
        "\n",
        "        # creating sequences (X) and corresponding targets (y)\n",
        "        for i in range(len(combined_data) - time_step - 1):\n",
        "\n",
        "            # features of the sequence\n",
        "            features = combined_data[i:(i + time_step), :]\n",
        "\n",
        "            # calculating array of changes\n",
        "            deltas = [[features[i][j] - features[i - 1][j] for j in range(len(features[i]))] for i in range(1, len(features))]\n",
        "\n",
        "            normalized_deltas = MinMaxScaler(feature_range = (0, 1)).fit_transform(deltas)\n",
        "\n",
        "            X.append(normalized_deltas)\n",
        "\n",
        "            # targets (close prices)\n",
        "            y.append(normalized_data[i + time_step, 0])\n",
        "\n",
        "    return np.array(X), np.array(y)"
      ]
    },
    {
      "cell_type": "markdown",
      "metadata": {
        "id": "zxvo5QnzTNEc"
      },
      "source": [
        "### Model Processing and Testing Functions"
      ]
    },
    {
      "cell_type": "code",
      "execution_count": 21,
      "metadata": {
        "id": "nkLp0fjrTRLU"
      },
      "outputs": [],
      "source": [
        "def test_num_steps(start: int, end: int, step: int, epoch_num: int, data_array, data_processing_function) -> tuple[list[int], list[float]]:\n",
        "    \"\"\" function whcih iterates over number of steps considered provided by the input, trains and\n",
        "    tests resultant models and outputs arrays of number of steps tested for and resultant MSQ values \"\"\"\n",
        "\n",
        "    timestep_results = []\n",
        "    MSE_results = []\n",
        "\n",
        "    # defining time steps and reshape the dataset\n",
        "    for time_step in range(start, end, step):\n",
        "\n",
        "        timestep_results.append(time_step)\n",
        "\n",
        "        # preparing the data\n",
        "        X, y = data_processing_function(data_array, time_step)\n",
        "        X_train, X_test, y_train, y_test = train_test_split(X, y, test_size = 0.2)\n",
        "\n",
        "        # creating a model\n",
        "        model = Sequential()\n",
        "        model.add(SimpleRNN(units = 100, activation = 'relu', input_shape = (X_train.shape[1], X_train.shape[2])))\n",
        "        model.add(Dense(units = 1))\n",
        "        model.compile(optimizer = 'adam', loss = 'mean_squared_error')\n",
        "\n",
        "        # training the model\n",
        "        model.fit(X_train, y_train, epochs = epoch_num, batch_size = 32, verbose = 0)\n",
        "\n",
        "        # testing the model, recording the performance\n",
        "        MSE_results.append(model.evaluate(X_test, y_test))\n",
        "\n",
        "        # printing the status\n",
        "        print(str(100 * (time_step -  start) // (end - start)) + \"% progress\")\n",
        "\n",
        "    return timestep_results, MSE_results"
      ]
    },
    {
      "cell_type": "code",
      "source": [
        "def test_feature_set(num_features: int, num_epochs: int, time_step: int, data_processing_function) -> list[tuple[float, str]]:\n",
        "    \"\"\" function which trains the neural network based on all possible\n",
        "    combinations of num_features and outputs an array of tuples, each representing\n",
        "    the loss and the features used \"\"\"\n",
        "\n",
        "    def generate_indices_recur(last_index: int, features_left: int) -> list[list[int]]:\n",
        "        \"\"\" helper function which produces an array of arrays of indices,\n",
        "        representing all possible combinations of features for a given number\n",
        "        of features \"\"\"\n",
        "\n",
        "        # base case\n",
        "        if features_left == 0:\n",
        "            return [[]]\n",
        "\n",
        "        ans = []\n",
        "\n",
        "        # iterating over remaining indices\n",
        "        for i in range(last_index + 1, len(all_data) - features_left + 1):\n",
        "\n",
        "            # obtaining remaining features\n",
        "            remaining = generate_indices_recur(i, features_left - 1)\n",
        "\n",
        "            # adding the completed set of features\n",
        "            for rem_arr in remaining:\n",
        "                ans.append([i] + rem_arr)\n",
        "\n",
        "        return ans\n",
        "\n",
        "    # generating indices, always keeping close price as the first one\n",
        "    indices_sets = generate_indices_recur(0, num_features - 1)\n",
        "    indices_sets = [[0] + arr for arr in indices_sets]\n",
        "\n",
        "    # generating feature names for the feature sets\n",
        "    indices_names = []\n",
        "    for index_set in indices_sets:\n",
        "\n",
        "        # obtaining names and saving the results\n",
        "        names_arr = [all_data_names[i] for i in index_set]\n",
        "        indices_names.append(\", \".join(names_arr))\n",
        "\n",
        "    results = []\n",
        "\n",
        "    # training the model for all features of combinations\n",
        "    for i, index_set in enumerate(indices_sets):\n",
        "\n",
        "        # generating data\n",
        "        data_array = [all_data[i] for i in index_set]\n",
        "\n",
        "        # preparing the data\n",
        "        X, y = data_processing_function(data_array, time_step)\n",
        "        X_train, X_test, y_train, y_test = train_test_split(X, y, test_size = 0.2)\n",
        "\n",
        "        # creating a model\n",
        "        model = Sequential()\n",
        "        model.add(SimpleRNN(units = 10, activation = 'relu', input_shape = (X_train.shape[1], X_train.shape[2])))\n",
        "        model.add(Dense(units = 1))\n",
        "        model.compile(optimizer = 'adam', loss = 'mean_squared_error')\n",
        "\n",
        "        # training the model\n",
        "        model.fit(X_train, y_train, epochs = num_epochs, batch_size = 32, verbose = 0)\n",
        "\n",
        "        # testing the model, recording the performance and model's name\n",
        "        results.append((model.evaluate(X_test, y_test), indices_names[i]))\n",
        "        print(results)\n",
        "\n",
        "        # printing the status\n",
        "        print(str(100 * (i + 1) // (len(indices_sets))) + \"% progress\")\n",
        "\n",
        "    return results"
      ],
      "metadata": {
        "id": "_Hqppl6dJtd2"
      },
      "execution_count": 22,
      "outputs": []
    },
    {
      "cell_type": "code",
      "source": [
        "def test_number_units(start: int, end: int, step: int, num_epochs: int, data_array: list[list[float]]) -> list[tuple[float, int]]:\n",
        "    \"\"\" function which trains neural networks and reports the losses for different\n",
        "    number of units in a RNN layer \"\"\"\n",
        "\n",
        "    results = []\n",
        "    for num_units in range(start, end, step):\n",
        "\n",
        "        # preparing the data\n",
        "        X, y = get_data_raw(data_array, 40)\n",
        "        X_train, X_test, y_train, y_test = train_test_split(X, y, test_size = 0.2)\n",
        "\n",
        "        # creating a model\n",
        "        model = Sequential()\n",
        "        model.add(SimpleRNN(units = num_units, activation = 'relu', input_shape = (X_train.shape[1], X_train.shape[2])))\n",
        "        model.add(Dense(units = 1))\n",
        "        model.compile(optimizer = 'adam', loss = 'mean_squared_error')\n",
        "\n",
        "        # training the model\n",
        "        model.fit(X_train, y_train, epochs = num_epochs, batch_size = 32, verbose = 0)\n",
        "\n",
        "        # testing the model, recording the performance\n",
        "        results.append((model.evaluate(X_test, y_test), num_units))\n",
        "\n",
        "        # printing the status\n",
        "        print(str(100 * (num_units + step - start) // (end - start)) + \"% progress\")\n",
        "\n",
        "    return results"
      ],
      "metadata": {
        "id": "jPRrrEav-F00"
      },
      "execution_count": 23,
      "outputs": []
    },
    {
      "cell_type": "markdown",
      "metadata": {
        "id": "O1PfSWtfSpSI"
      },
      "source": [
        "### Data Presentation Functions"
      ]
    },
    {
      "cell_type": "code",
      "execution_count": 24,
      "metadata": {
        "id": "3qyguvvdStBf"
      },
      "outputs": [],
      "source": [
        "def graph_MSE_vs_timesteps(timesteps: list[int], MSE_data: list[float], title: str):\n",
        "    \"\"\" function which produces a graph for MSE vs timesteps \"\"\"\n",
        "    plt.plot(timesteps, MSE_data)\n",
        "    plt.xlabel(\"number of time steps\")\n",
        "    plt.ylabel(\"MSE loss\")\n",
        "    plt.title(title)\n",
        "    plt.grid()\n",
        "    plt.show()"
      ]
    },
    {
      "cell_type": "code",
      "source": [
        "def graph_MSE_vs_num_units(units_test_data: list[tuple[float, int]], title: str):\n",
        "    \"\"\" function which produces a graph for MSE vs number of units \"\"\"\n",
        "    units_data = [val[1] for val in units_test_data]\n",
        "    MSE_data = [val[0] for val in units_test_data]\n",
        "    plt.plot(units_data, MSE_data)\n",
        "    plt.xlabel(\"number of units in RNN layer\")\n",
        "    plt.ylabel(\"MSE loss\")\n",
        "    plt.title(title)\n",
        "    plt.grid()\n",
        "    plt.show()"
      ],
      "metadata": {
        "id": "NvH3zIMx_zLo"
      },
      "execution_count": 25,
      "outputs": []
    },
    {
      "cell_type": "markdown",
      "source": [
        "### Model Evaluation Functions"
      ],
      "metadata": {
        "id": "fhgXpjwbEUDu"
      }
    },
    {
      "cell_type": "code",
      "source": [
        "def get_directional_accuracy(model: tf.keras.Model, data_array: list[list[float]]) -> float:\n",
        "    \"\"\" function which calculates and returns the directional\n",
        "    accuracy of the model (what percentage of the model's prediction\n",
        "    correctly predict whether the price goes up or down) \"\"\"\n",
        "\n",
        "    # counting the number of correct directional predictions\n",
        "    num_correct_predicitons = 0\n",
        "\n",
        "    # preparing the data\n",
        "    X, y = get_data_raw(data_array, 40)\n",
        "\n",
        "    # iterating over data\n",
        "    for i, X_vals in enumerate(X):\n",
        "\n",
        "        # adjusting the shape of feature set to fit the predict function\n",
        "        X_vals = np.expand_dims(X_vals, axis = 0)\n",
        "\n",
        "        # generating a prediction\n",
        "        prediction = model.predict(X_vals, verbose = 0)[0][0]\n",
        "\n",
        "        # obtaining the previous close price\n",
        "        prev_price = X_vals[-1, 0, 0]\n",
        "\n",
        "        # checking if the direction of the prediciton is correct\n",
        "        if prediction > prev_price and y[i] > prev_price:\n",
        "            num_correct_predicitons += 1\n",
        "        elif prediction < prev_price and y[i] < prev_price:\n",
        "            num_correct_predicitons += 1\n",
        "\n",
        "    # returning the ratio of correct directions to the total number of predictions\n",
        "    return num_correct_predicitons / len(X)"
      ],
      "metadata": {
        "id": "4dT-QgpMEYDJ"
      },
      "execution_count": 26,
      "outputs": []
    },
    {
      "cell_type": "code",
      "source": [
        "def get_average_profit(model: tf.keras.Model, stock_data: list[list[float]]) -> tuple[float, float, float]:\n",
        "    \"\"\" function which uses a simple trading strategy to calculate the\n",
        "    average profit per year for a given model and ROI by dividing total\n",
        "    profit by total money spen and annual return according to the formula\n",
        "    (1 + ROI)^(1 / num_years) - 1\n",
        "\n",
        "    returns:\n",
        "        Average Annual Profit\n",
        "        ROI\n",
        "        Annual Return\n",
        "\n",
        "    the strategy follows the following set of rules:\n",
        "\n",
        "    1) If according to the prediction price of the stock will increase tomorrow,\n",
        "    buy one unit of the stock\n",
        "    2) If according to the prediction price of the stock will decrease tomorrow,\n",
        "    sell all the stocks you have\n",
        "    \"\"\"\n",
        "\n",
        "    # initializing total profit and number of stocks held\n",
        "    profit, total_spent, num_stocks = 0, 0, 0\n",
        "\n",
        "    # preparing the data\n",
        "    X, y = get_data_raw_one_company(stock_data, 40)\n",
        "\n",
        "    # iterating over data\n",
        "    for i, X_vals in enumerate(X):\n",
        "\n",
        "        # adjusting the shape of feature set to fit the predict function\n",
        "        X_vals = np.expand_dims(X_vals, axis = 0)\n",
        "\n",
        "        # generating a prediction\n",
        "        prediction = model.predict(X_vals, verbose = 0)\n",
        "\n",
        "        # obtaining the previous close price\n",
        "        prev_price = X_vals[-1, 0, 0]\n",
        "\n",
        "        # if we predict an incrase, we buy a stock\n",
        "        if prediction > prev_price:\n",
        "\n",
        "            num_stocks += 1\n",
        "            profit -= prev_price\n",
        "            total_spent += prev_price\n",
        "\n",
        "        # otherwise, sell the stocks we have\n",
        "        else:\n",
        "\n",
        "            profit += num_stocks * prev_price\n",
        "            num_stocks = 0\n",
        "\n",
        "    # selling the remaining stocks\n",
        "    profit += num_stocks * y[-1]\n",
        "\n",
        "    # returning per year profit and ROI\n",
        "    return 365 * profit / len(y), profit / total_spent, (1 + profit / total_spent)**(1 / (len(y) / 365)) - 1"
      ],
      "metadata": {
        "id": "Tp0DiIgdJuTt"
      },
      "execution_count": 27,
      "outputs": []
    },
    {
      "cell_type": "code",
      "source": [
        "def get_avergage_profit_random_stocks(model: tf.keras.Model, num_repetitions: int, stock_folder_path: str) -> tuple[float, float, float]:\n",
        "    \"\"\" function which loads a random available stock and calculates the average\n",
        "    annual profit, ROI and annual return for it, repeating the procedure num_repetitions times,\n",
        "    then outputs the average metrics for all results \"\"\"\n",
        "\n",
        "    # recording the names of all the stock files\n",
        "    file_names = [name for name in os.listdir(stock_folder_path)]\n",
        "\n",
        "    # counting the number of processed stocks\n",
        "    num_processed_stocks = 0\n",
        "\n",
        "    # totals\n",
        "    total_annual_profit, total_ROI, total_annual_return = 0, 0, 0\n",
        "\n",
        "    # obtaining num_repetitions results\n",
        "    while num_processed_stocks != num_repetitions:\n",
        "\n",
        "        # picking a random stock\n",
        "        filename = random.choice(file_names)\n",
        "\n",
        "        close_vals, adj_close_vals, volume_vals = [], [], []\n",
        "\n",
        "        # accessing the CSV file\n",
        "        file_name = stock_folder_path + \"/\" + filename\n",
        "        try:\n",
        "            df = pd.read_csv(file_name)\n",
        "\n",
        "            # checking if clean is unsuccesful\n",
        "            if not clean_dataframe(df):\n",
        "\n",
        "                print(\"Failed to clean:\", filename)\n",
        "                print()\n",
        "                failed_clean += 1\n",
        "                continue\n",
        "        except:\n",
        "\n",
        "            print(\"Failed to load:\", filename)\n",
        "            print()\n",
        "            failes_access += 1\n",
        "            continue\n",
        "\n",
        "        # recording the data\n",
        "        close_vals = df[['Close']].values\n",
        "        adj_close_vals = df[['Adj Close']].values\n",
        "        volume_vals = df[['Volume']].values\n",
        "\n",
        "        # obtaining and recording the results for the stock\n",
        "        annual_profit, ROI, annual_return = get_average_profit(model, [close_vals, adj_close_vals, volume_vals])\n",
        "        total_annual_profit += annual_profit\n",
        "        total_ROI += ROI\n",
        "        total_annual_return += annual_return\n",
        "\n",
        "        # printing the results for the stock\n",
        "        print(\"Stock: \" + filename.split(\".\")[0])\n",
        "        print(\"Return On Investment: \" + str(round(100 * ROI, 2)) + \"%\")\n",
        "        print(\"Annual Return: \" + str(round(100 * annual_return, 2)) + \"%\")\n",
        "        print(\"Annual Profit: \" + str(round(annual_profit, 2)) + \"$\")\n",
        "        print()\n",
        "\n",
        "\n",
        "        # incrementing the number of processed stocks\n",
        "        num_processed_stocks += 1\n",
        "\n",
        "    # returning the average monthly profit\n",
        "    return total_annual_profit / num_repetitions, total_ROI / num_repetitions, total_annual_return / num_repetitions"
      ],
      "metadata": {
        "id": "ghSjM8mBOmHx"
      },
      "execution_count": 28,
      "outputs": []
    },
    {
      "cell_type": "code",
      "source": [
        "def get_average_profit_specific_stock(model: tf.keras.Model, stock_folder_path: str, stock_name: str) -> float:\n",
        "    \"\"\" function which return the average annual profit for a specified stock \"\"\"\n",
        "\n",
        "    # adding .csv to the stock name\n",
        "    filename = stock_name + \".csv\"\n",
        "\n",
        "    close_vals, adj_close_vals, volume_vals = [], [], []\n",
        "\n",
        "    # accessing the CSV file\n",
        "    file_name = stock_folder_path + \"/\" + filename\n",
        "\n",
        "    # reading the file\n",
        "    df = pd.read_csv(file_name)\n",
        "\n",
        "    # recording the data\n",
        "    close_vals = df[['Close']].values\n",
        "    adj_close_vals = df[['Adj Close']].values\n",
        "    volume_vals = df[['Volume']].values\n",
        "\n",
        "    # obtaining and recording the results for the stock\n",
        "    result = get_average_profit(model, [close_vals, adj_close_vals, volume_vals])\n",
        "\n",
        "    # returning the average monthly profit\n",
        "    return result"
      ],
      "metadata": {
        "id": "zC5aoFR_pldp"
      },
      "execution_count": 29,
      "outputs": []
    },
    {
      "cell_type": "markdown",
      "source": [
        "# Evaluating Optimal Number of Time Steps"
      ],
      "metadata": {
        "id": "RIBlJgxKDxT3"
      }
    },
    {
      "cell_type": "markdown",
      "source": [
        "## Intro\n",
        "\n",
        "In this part I will be evaluating the optimal number of time steps, which is the number of days in the past the neural network has data for and that will be used to predict the price in the upcoming day.The approach here is to start with one feature for price prediction and attempt to train different models based on different time steps, eventually comparing the performance. In addition, some of the models will use raw data, whereas other – data deltas."
      ],
      "metadata": {
        "id": "fErYHYTaD2N8"
      }
    },
    {
      "cell_type": "markdown",
      "metadata": {
        "id": "dNXNSIp3Dv-C"
      },
      "source": [
        "## One Feature Predictions"
      ]
    },
    {
      "cell_type": "markdown",
      "metadata": {
        "id": "uv4lGr4-sAvT"
      },
      "source": [
        "### Raw Data"
      ]
    },
    {
      "cell_type": "code",
      "execution_count": null,
      "metadata": {
        "colab": {
          "base_uri": "https://localhost:8080/"
        },
        "id": "0Ppot6kw2glw",
        "outputId": "d20a87ee-81f8-4121-e82c-867343c46a84"
      },
      "outputs": [
        {
          "output_type": "stream",
          "name": "stdout",
          "text": [
            "30/30 [==============================] - 0s 4ms/step - loss: 3.1496e-04\n",
            "0% progress\n",
            "30/30 [==============================] - 0s 3ms/step - loss: 1.7342e-04\n",
            "4% progress\n",
            "30/30 [==============================] - 0s 3ms/step - loss: 1.2117e-04\n",
            "9% progress\n",
            "30/30 [==============================] - 0s 3ms/step - loss: 2.9345e-04\n",
            "13% progress\n",
            "29/29 [==============================] - 0s 4ms/step - loss: 2.2621e-04\n",
            "18% progress\n",
            "29/29 [==============================] - 0s 4ms/step - loss: 2.2851e-04\n",
            "22% progress\n",
            "29/29 [==============================] - 0s 5ms/step - loss: 1.3912e-04\n",
            "27% progress\n",
            "29/29 [==============================] - 0s 5ms/step - loss: 1.4473e-04\n",
            "31% progress\n",
            "29/29 [==============================] - 0s 5ms/step - loss: 1.4487e-04\n",
            "36% progress\n",
            "29/29 [==============================] - 0s 6ms/step - loss: 1.8556e-04\n",
            "40% progress\n",
            "29/29 [==============================] - 0s 8ms/step - loss: 1.7232e-04\n",
            "45% progress\n",
            "29/29 [==============================] - 0s 8ms/step - loss: 2.1153e-04\n",
            "50% progress\n",
            "29/29 [==============================] - 0s 6ms/step - loss: 1.7791e-04\n",
            "54% progress\n",
            "29/29 [==============================] - 0s 7ms/step - loss: 2.2603e-04\n",
            "59% progress\n",
            "29/29 [==============================] - 1s 11ms/step - loss: 1.4251e-04\n",
            "63% progress\n",
            "29/29 [==============================] - 1s 10ms/step - loss: 1.6947e-04\n",
            "68% progress\n",
            "29/29 [==============================] - 0s 8ms/step - loss: 2.3382e-04\n",
            "72% progress\n",
            "29/29 [==============================] - 0s 8ms/step - loss: 1.3637e-04\n",
            "77% progress\n",
            "29/29 [==============================] - 0s 9ms/step - loss: 2.7085e-04\n",
            "81% progress\n",
            "29/29 [==============================] - 0s 9ms/step - loss: 1.8012e-04\n",
            "86% progress\n",
            "29/29 [==============================] - 0s 9ms/step - loss: 2.0798e-04\n",
            "90% progress\n",
            "29/29 [==============================] - 0s 9ms/step - loss: 1.2157e-04\n",
            "95% progress\n"
          ]
        }
      ],
      "source": [
        "# starting with predicting close prices using previous close prices, using raw data\n",
        "\n",
        "data_arrays = [close_vals]\n",
        "timestep_results, MSE_results = test_num_steps(start = 2, end = 90, step = 4, epoch_num = 50, data_array = data_arrays, data_processing_function = get_data_raw)"
      ]
    },
    {
      "cell_type": "code",
      "execution_count": null,
      "metadata": {
        "colab": {
          "base_uri": "https://localhost:8080/",
          "height": 472
        },
        "id": "GS50X9PzWZ_3",
        "outputId": "81b04ce6-0b3a-408e-9e96-360d2b19265a"
      },
      "outputs": [
        {
          "output_type": "display_data",
          "data": {
            "text/plain": [
              "<Figure size 640x480 with 1 Axes>"
            ],
            "image/png": "[encoded data removed]"
          },
          "metadata": {}
        }
      ],
      "source": [
        "# graphing the results\n",
        "\n",
        "graph_MSE_vs_timesteps(timestep_results, MSE_results, \"MSE values vs number of timesteps for close price feature, raw data\")"
      ]
    },
    {
      "cell_type": "markdown",
      "metadata": {
        "id": "FOog9Og7jBiv"
      },
      "source": [
        "As can be seen from the results above, best results are produced for the number of steps of around 15 days and 25 days."
      ]
    },
    {
      "cell_type": "markdown",
      "metadata": {
        "id": "96PLhzzmsIR4"
      },
      "source": [
        "### Price Deltas"
      ]
    },
    {
      "cell_type": "code",
      "execution_count": null,
      "metadata": {
        "colab": {
          "base_uri": "https://localhost:8080/"
        },
        "id": "tC1Kv1v0oJFe",
        "outputId": "03e00a1b-3bf0-4231-db82-5ec28111ad99"
      },
      "outputs": [
        {
          "output_type": "stream",
          "name": "stdout",
          "text": [
            "30/30 [==============================] - 0s 2ms/step - loss: 0.0141\n",
            "0% progress\n",
            "30/30 [==============================] - 0s 3ms/step - loss: 0.0149\n",
            "4% progress\n",
            "30/30 [==============================] - 0s 3ms/step - loss: 0.0156\n",
            "9% progress\n",
            "30/30 [==============================] - 0s 3ms/step - loss: 0.0101\n",
            "13% progress\n",
            "29/29 [==============================] - 0s 3ms/step - loss: 0.0053\n",
            "18% progress\n",
            "29/29 [==============================] - 0s 4ms/step - loss: 0.0053\n",
            "22% progress\n",
            "29/29 [==============================] - 0s 5ms/step - loss: 0.0047\n",
            "27% progress\n",
            "29/29 [==============================] - 0s 5ms/step - loss: 0.0054\n",
            "31% progress\n",
            "29/29 [==============================] - 0s 5ms/step - loss: 0.0037\n",
            "36% progress\n",
            "29/29 [==============================] - 0s 5ms/step - loss: 0.0031\n",
            "40% progress\n",
            "29/29 [==============================] - 0s 9ms/step - loss: 0.0020\n",
            "45% progress\n",
            "29/29 [==============================] - 0s 6ms/step - loss: 0.0047\n",
            "50% progress\n",
            "29/29 [==============================] - 0s 9ms/step - loss: 0.0054\n",
            "54% progress\n",
            "29/29 [==============================] - 0s 7ms/step - loss: 0.0032\n",
            "59% progress\n",
            "29/29 [==============================] - 0s 7ms/step - loss: 0.0036\n",
            "63% progress\n",
            "29/29 [==============================] - 0s 7ms/step - loss: 0.0126\n",
            "68% progress\n",
            "29/29 [==============================] - 0s 8ms/step - loss: 0.0054\n",
            "72% progress\n",
            "29/29 [==============================] - 0s 8ms/step - loss: 0.0140\n",
            "77% progress\n",
            "29/29 [==============================] - 1s 18ms/step - loss: 0.0139\n",
            "81% progress\n",
            "29/29 [==============================] - 0s 9ms/step - loss: 0.0106\n",
            "86% progress\n",
            "29/29 [==============================] - 0s 9ms/step - loss: 0.0137\n",
            "90% progress\n",
            "29/29 [==============================] - 0s 10ms/step - loss: 0.0120\n",
            "95% progress\n"
          ]
        }
      ],
      "source": [
        "# now using the same approach, but loading closing price changes instead of raw data\n",
        "\n",
        "data_arrays = [close_vals]\n",
        "timestep_results, MSE_results = test_num_steps(start = 2, end = 90, step = 4, epoch_num = 50, data_array = data_arrays, data_processing_function = get_data_delta)"
      ]
    },
    {
      "cell_type": "code",
      "execution_count": null,
      "metadata": {
        "id": "l8D57yVwjcv9",
        "colab": {
          "base_uri": "https://localhost:8080/",
          "height": 472
        },
        "outputId": "012d1c36-7d75-4702-a1be-b82ed1a0a23c"
      },
      "outputs": [
        {
          "output_type": "display_data",
          "data": {
            "text/plain": [
              "<Figure size 640x480 with 1 Axes>"
            ],
            "image/png": "[encoded data removed]"
          },
          "metadata": {}
        }
      ],
      "source": [
        "graph_MSE_vs_timesteps(timestep_results, MSE_results, \"MSE values vs number of timesteps for close price and feature, delta data\")"
      ]
    },
    {
      "cell_type": "markdown",
      "metadata": {
        "id": "u0Tkk4_9VxW-"
      },
      "source": [
        "## Multiple Features Prediction"
      ]
    },
    {
      "cell_type": "markdown",
      "source": [
        "Now I attempt adding additional features to see whether the optimal time step trend will change."
      ],
      "metadata": {
        "id": "C4fTN37pJoUm"
      }
    },
    {
      "cell_type": "code",
      "execution_count": null,
      "metadata": {
        "colab": {
          "base_uri": "https://localhost:8080/"
        },
        "id": "uLKFYHECH-wQ",
        "outputId": "e96a2361-efa5-4d91-95b9-4876416d3708"
      },
      "outputs": [
        {
          "output_type": "stream",
          "name": "stdout",
          "text": [
            "93/93 [==============================] - 0s 2ms/step - loss: 1.2365e-04\n",
            "0% progress\n",
            "93/93 [==============================] - 0s 3ms/step - loss: 1.1896e-04\n",
            "4% progress\n",
            "93/93 [==============================] - 0s 3ms/step - loss: 1.3929e-04\n",
            "9% progress\n",
            "93/93 [==============================] - 1s 5ms/step - loss: 1.3801e-04\n",
            "13% progress\n",
            "92/92 [==============================] - 0s 3ms/step - loss: 1.6302e-04\n",
            "18% progress\n",
            "92/92 [==============================] - 0s 4ms/step - loss: 1.0037e-04\n",
            "22% progress\n",
            "92/92 [==============================] - 1s 5ms/step - loss: 1.2549e-04\n",
            "27% progress\n",
            "92/92 [==============================] - 1s 5ms/step - loss: 1.0685e-04\n",
            "31% progress\n",
            "92/92 [==============================] - 1s 7ms/step - loss: 1.0442e-04\n",
            "36% progress\n",
            "92/92 [==============================] - 1s 5ms/step - loss: 1.1413e-04\n",
            "40% progress\n",
            "92/92 [==============================] - 1s 6ms/step - loss: 9.3826e-05\n",
            "45% progress\n",
            "92/92 [==============================] - 1s 6ms/step - loss: 1.2195e-04\n",
            "50% progress\n",
            "92/92 [==============================] - 1s 9ms/step - loss: 1.2753e-04\n",
            "54% progress\n",
            "92/92 [==============================] - 1s 7ms/step - loss: 1.0408e-04\n",
            "59% progress\n",
            "92/92 [==============================] - 1s 7ms/step - loss: 1.1001e-04\n",
            "63% progress\n",
            "92/92 [==============================] - 1s 7ms/step - loss: 9.5027e-05\n",
            "68% progress\n",
            "92/92 [==============================] - 1s 11ms/step - loss: 1.1297e-04\n",
            "72% progress\n",
            "92/92 [==============================] - 1s 8ms/step - loss: 1.3997e-04\n",
            "77% progress\n",
            "92/92 [==============================] - 1s 8ms/step - loss: 1.2894e-04\n",
            "81% progress\n",
            "92/92 [==============================] - 1s 8ms/step - loss: 1.0030e-04\n",
            "86% progress\n",
            "92/92 [==============================] - 1s 11ms/step - loss: 1.4579e-04\n",
            "90% progress\n",
            "92/92 [==============================] - 1s 8ms/step - loss: 1.2385e-04\n",
            "95% progress\n"
          ]
        }
      ],
      "source": [
        "# now we try adding volume data to the features using raw data\n",
        "\n",
        "data_arrays = [close_vals, volume_vals]\n",
        "timestep_results, MSE_results = test_num_steps(start = 2, end = 90, step = 4, epoch_num = 50, data_array = data_arrays, data_processing_function = get_data_raw)"
      ]
    },
    {
      "cell_type": "code",
      "execution_count": null,
      "metadata": {
        "id": "VaepUrUsIJp-",
        "colab": {
          "base_uri": "https://localhost:8080/",
          "height": 472
        },
        "outputId": "7ba96bc5-bf58-4129-efbe-845a999e872f"
      },
      "outputs": [
        {
          "output_type": "display_data",
          "data": {
            "text/plain": [
              "<Figure size 640x480 with 1 Axes>"
            ],
            "image/png": "[encoded data removed]"
          },
          "metadata": {}
        }
      ],
      "source": [
        "graph_MSE_vs_timesteps(timestep_results, MSE_results, \"MSE values vs number of timesteps for close price and volume features, raw data\")"
      ]
    },
    {
      "cell_type": "code",
      "source": [
        "# now we try adding volume data to the features using delta data\n",
        "\n",
        "data_arrays = [close_vals, volume_vals]\n",
        "timestep_results, MSE_results = test_num_steps(start = 2, end = 90, step = 4, epoch_num = 50, data_array = data_arrays, data_processing_function = get_data_delta)"
      ],
      "metadata": {
        "colab": {
          "base_uri": "https://localhost:8080/"
        },
        "id": "7Oe9FhvcdQeN",
        "outputId": "94506d9f-3b2b-4914-aea8-80e6888662ae"
      },
      "execution_count": null,
      "outputs": [
        {
          "output_type": "stream",
          "name": "stdout",
          "text": [
            "93/93 [==============================] - 0s 2ms/step - loss: 0.0732\n",
            "0% progress\n",
            "93/93 [==============================] - 0s 2ms/step - loss: 0.0623\n",
            "4% progress\n",
            "93/93 [==============================] - 1s 6ms/step - loss: 0.0418\n",
            "9% progress\n",
            "93/93 [==============================] - 1s 4ms/step - loss: 0.0217\n",
            "13% progress\n",
            "92/92 [==============================] - 0s 3ms/step - loss: 0.0147\n",
            "18% progress\n",
            "92/92 [==============================] - 1s 5ms/step - loss: 0.0095\n",
            "22% progress\n",
            "92/92 [==============================] - 1s 5ms/step - loss: 0.0068\n",
            "27% progress\n",
            "92/92 [==============================] - 1s 4ms/step - loss: 0.0059\n",
            "31% progress\n",
            "92/92 [==============================] - 1s 5ms/step - loss: 0.0048\n",
            "36% progress\n",
            "92/92 [==============================] - 1s 4ms/step - loss: 0.0078\n",
            "40% progress\n",
            "92/92 [==============================] - 1s 5ms/step - loss: 0.0050\n",
            "45% progress\n",
            "92/92 [==============================] - 1s 5ms/step - loss: 0.0096\n",
            "50% progress\n",
            "92/92 [==============================] - 1s 6ms/step - loss: 0.0232\n",
            "54% progress\n",
            "92/92 [==============================] - 1s 5ms/step - loss: 0.0557\n",
            "59% progress\n",
            "92/92 [==============================] - 1s 9ms/step - loss: 0.0453\n",
            "63% progress\n",
            "92/92 [==============================] - 1s 6ms/step - loss: 0.0163\n",
            "68% progress\n",
            "92/92 [==============================] - 1s 6ms/step - loss: 0.0452\n",
            "72% progress\n",
            "92/92 [==============================] - 1s 6ms/step - loss: 0.0475\n",
            "77% progress\n",
            "92/92 [==============================] - 1s 6ms/step - loss: 0.0634\n",
            "81% progress\n",
            "92/92 [==============================] - 1s 6ms/step - loss: 0.0660\n",
            "86% progress\n",
            "92/92 [==============================] - 1s 7ms/step - loss: 0.0455\n",
            "90% progress\n",
            "92/92 [==============================] - 1s 9ms/step - loss: 0.0710\n",
            "95% progress\n"
          ]
        }
      ]
    },
    {
      "cell_type": "code",
      "source": [
        "graph_MSE_vs_timesteps(timestep_results, MSE_results, \"MSE values vs number of timesteps for close price and volume features, raw data\")"
      ],
      "metadata": {
        "id": "5mSQgz2PdSGC",
        "colab": {
          "base_uri": "https://localhost:8080/",
          "height": 472
        },
        "outputId": "00d8a289-ba27-462f-c132-0444bec089bc"
      },
      "execution_count": null,
      "outputs": [
        {
          "output_type": "display_data",
          "data": {
            "text/plain": [
              "<Figure size 640x480 with 1 Axes>"
            ],
            "image/png": "[encoded data removed]"
          },
          "metadata": {}
        }
      ]
    },
    {
      "cell_type": "markdown",
      "source": [
        "## Conclusion\n",
        "\n",
        "From the graphs produced above we can see that the optimal number of times steps that are fed to the network to predict the price is around 40, as the lowest points of all of the 4 graphs appear for a value of time steps of around 40. Even though some of them had optimal values slighlty smaller than 40 and some of them had these values greater than 40, it is reasonable to say that these deviations appear due to the inconsistency of training relusts for such a low number of epochs, meaning that, overall, a mean value of around 40 That is why this is going to be the parameter for the time steps I will be using for the rest of the research.\n",
        "\n",
        "Another crucial conclusion can be made about type of data fed to the network. Overall, networks that delt with raw data instead of data deltas performed better, with slighlty better results priduced by the network which not only used the close price, but also the volume. Therefore, it is reasonbale to move on to evaluating the best set of features to be used with the network."
      ],
      "metadata": {
        "id": "rF5YJ0c5EddJ"
      }
    },
    {
      "cell_type": "markdown",
      "source": [
        "# Evaluating the Best Set of Features"
      ],
      "metadata": {
        "id": "v1KmWg7HIPwM"
      }
    },
    {
      "cell_type": "markdown",
      "source": [
        "## Intro\n",
        "\n",
        "Another crucial parameter for training a neural network is picking the relevant features. The dataset provides 6 different features, and the goal is to see which combination of those will lead to best results. The strategy for thir part is to iterate over all possible sets of features to be used to predict the price of the stock."
      ],
      "metadata": {
        "id": "ofRi2nbKIaf9"
      }
    },
    {
      "cell_type": "markdown",
      "source": [
        "## Two Features"
      ],
      "metadata": {
        "id": "mV17tpWuRbHZ"
      }
    },
    {
      "cell_type": "code",
      "source": [
        "two_feature_results = test_feature_set(num_features = 2, num_epochs = 100, time_step = 40, data_processing_function = get_data_raw)"
      ],
      "metadata": {
        "colab": {
          "base_uri": "https://localhost:8080/"
        },
        "id": "-qQGyDlJRdu4",
        "outputId": "36f364f8-1783-42f9-fc01-895435e48660"
      },
      "execution_count": null,
      "outputs": [
        {
          "output_type": "stream",
          "name": "stdout",
          "text": [
            "65/65 [==============================] - 0s 5ms/step - loss: 1.2367e-04\n",
            "20% progress\n",
            "65/65 [==============================] - 0s 5ms/step - loss: 1.4213e-04\n",
            "40% progress\n",
            "65/65 [==============================] - 1s 7ms/step - loss: 1.2473e-04\n",
            "60% progress\n",
            "65/65 [==============================] - 1s 7ms/step - loss: 1.0679e-04\n",
            "80% progress\n",
            "65/65 [==============================] - 0s 5ms/step - loss: 1.1346e-04\n",
            "100% progress\n"
          ]
        }
      ]
    },
    {
      "cell_type": "code",
      "source": [
        "two_feature_results.sort()\n",
        "print(two_feature_results)\n",
        "print(two_feature_results[0])"
      ],
      "metadata": {
        "colab": {
          "base_uri": "https://localhost:8080/"
        },
        "id": "kETDgTIONN28",
        "outputId": "2b611d8c-852e-4ce0-def6-cd46fde42749"
      },
      "execution_count": null,
      "outputs": [
        {
          "output_type": "stream",
          "name": "stdout",
          "text": [
            "[(0.00010678591934265569, 'Close, Adj Close'), (0.00011345745588187128, 'Close, Volume'), (0.0001236729440279305, 'Close, Open'), (0.00012473356036935002, 'Close, Low'), (0.0001421304332325235, 'Close, High')]\n",
            "(0.00010678591934265569, 'Close, Adj Close')\n"
          ]
        }
      ]
    },
    {
      "cell_type": "markdown",
      "source": [
        "## Three Features"
      ],
      "metadata": {
        "id": "oMIudTbtoS9a"
      }
    },
    {
      "cell_type": "code",
      "source": [
        "three_feature_results = test_feature_set(num_features = 3, num_epochs = 100, time_step = 40, data_processing_function = get_data_raw)"
      ],
      "metadata": {
        "colab": {
          "base_uri": "https://localhost:8080/"
        },
        "id": "Tg2k2LTzoRUe",
        "outputId": "c43652b1-c306-4844-c4ba-ef65ec8f3c99"
      },
      "execution_count": null,
      "outputs": [
        {
          "output_type": "stream",
          "name": "stdout",
          "text": [
            "116/116 [==============================] - 1s 3ms/step - loss: 1.2215e-04\n",
            "[(0.00012214681191835552, 'Close, Open, High')]\n",
            "10% progress\n",
            "116/116 [==============================] - 0s 2ms/step - loss: 1.1734e-04\n",
            "[(0.00012214681191835552, 'Close, Open, High'), (0.00011733963765436783, 'Close, Open, Low')]\n",
            "20% progress\n",
            "116/116 [==============================] - 0s 3ms/step - loss: 1.1631e-04\n",
            "[(0.00012214681191835552, 'Close, Open, High'), (0.00011733963765436783, 'Close, Open, Low'), (0.00011631273082457483, 'Close, Open, Adj Close')]\n",
            "30% progress\n",
            "116/116 [==============================] - 0s 2ms/step - loss: 1.1696e-04\n",
            "[(0.00012214681191835552, 'Close, Open, High'), (0.00011733963765436783, 'Close, Open, Low'), (0.00011631273082457483, 'Close, Open, Adj Close'), (0.00011696096771629527, 'Close, Open, Volume')]\n",
            "40% progress\n",
            "116/116 [==============================] - 0s 2ms/step - loss: 9.8461e-05\n",
            "[(0.00012214681191835552, 'Close, Open, High'), (0.00011733963765436783, 'Close, Open, Low'), (0.00011631273082457483, 'Close, Open, Adj Close'), (0.00011696096771629527, 'Close, Open, Volume'), (9.846078319242224e-05, 'Close, High, Low')]\n",
            "50% progress\n",
            "116/116 [==============================] - 0s 2ms/step - loss: 1.0335e-04\n",
            "[(0.00012214681191835552, 'Close, Open, High'), (0.00011733963765436783, 'Close, Open, Low'), (0.00011631273082457483, 'Close, Open, Adj Close'), (0.00011696096771629527, 'Close, Open, Volume'), (9.846078319242224e-05, 'Close, High, Low'), (0.00010334944818168879, 'Close, High, Adj Close')]\n",
            "60% progress\n",
            "116/116 [==============================] - 1s 3ms/step - loss: 1.0758e-04\n",
            "[(0.00012214681191835552, 'Close, Open, High'), (0.00011733963765436783, 'Close, Open, Low'), (0.00011631273082457483, 'Close, Open, Adj Close'), (0.00011696096771629527, 'Close, Open, Volume'), (9.846078319242224e-05, 'Close, High, Low'), (0.00010334944818168879, 'Close, High, Adj Close'), (0.00010757928248494864, 'Close, High, Volume')]\n",
            "70% progress\n",
            "116/116 [==============================] - 0s 3ms/step - loss: 1.0761e-04\n",
            "[(0.00012214681191835552, 'Close, Open, High'), (0.00011733963765436783, 'Close, Open, Low'), (0.00011631273082457483, 'Close, Open, Adj Close'), (0.00011696096771629527, 'Close, Open, Volume'), (9.846078319242224e-05, 'Close, High, Low'), (0.00010334944818168879, 'Close, High, Adj Close'), (0.00010757928248494864, 'Close, High, Volume'), (0.00010761259181890637, 'Close, Low, Adj Close')]\n",
            "80% progress\n",
            "116/116 [==============================] - 0s 2ms/step - loss: 1.1473e-04\n",
            "[(0.00012214681191835552, 'Close, Open, High'), (0.00011733963765436783, 'Close, Open, Low'), (0.00011631273082457483, 'Close, Open, Adj Close'), (0.00011696096771629527, 'Close, Open, Volume'), (9.846078319242224e-05, 'Close, High, Low'), (0.00010334944818168879, 'Close, High, Adj Close'), (0.00010757928248494864, 'Close, High, Volume'), (0.00010761259181890637, 'Close, Low, Adj Close'), (0.00011472764163045213, 'Close, Low, Volume')]\n",
            "90% progress\n",
            "116/116 [==============================] - 0s 2ms/step - loss: 8.8267e-05\n",
            "[(0.00012214681191835552, 'Close, Open, High'), (0.00011733963765436783, 'Close, Open, Low'), (0.00011631273082457483, 'Close, Open, Adj Close'), (0.00011696096771629527, 'Close, Open, Volume'), (9.846078319242224e-05, 'Close, High, Low'), (0.00010334944818168879, 'Close, High, Adj Close'), (0.00010757928248494864, 'Close, High, Volume'), (0.00010761259181890637, 'Close, Low, Adj Close'), (0.00011472764163045213, 'Close, Low, Volume'), (8.826652629068121e-05, 'Close, Adj Close, Volume')]\n",
            "100% progress\n"
          ]
        }
      ]
    },
    {
      "cell_type": "code",
      "source": [
        "three_feature_results.sort()\n",
        "print(three_feature_results)\n",
        "print(three_feature_results[0])"
      ],
      "metadata": {
        "colab": {
          "base_uri": "https://localhost:8080/"
        },
        "id": "bP-DWPMwodWy",
        "outputId": "d31c5e11-2ae3-48b6-f1c6-e3eb92b56763"
      },
      "execution_count": null,
      "outputs": [
        {
          "output_type": "stream",
          "name": "stdout",
          "text": [
            "[(8.826652629068121e-05, 'Close, Adj Close, Volume'), (9.846078319242224e-05, 'Close, High, Low'), (0.00010334944818168879, 'Close, High, Adj Close'), (0.00010757928248494864, 'Close, High, Volume'), (0.00010761259181890637, 'Close, Low, Adj Close'), (0.00011472764163045213, 'Close, Low, Volume'), (0.00011631273082457483, 'Close, Open, Adj Close'), (0.00011696096771629527, 'Close, Open, Volume'), (0.00011733963765436783, 'Close, Open, Low'), (0.00012214681191835552, 'Close, Open, High')]\n",
            "(8.826652629068121e-05, 'Close, Adj Close, Volume')\n"
          ]
        }
      ]
    },
    {
      "cell_type": "markdown",
      "source": [
        "First of all, we can see that one additional feature improved the best result, which is reasonable, as more factors that may affect the price are fed to the network.\n",
        "\n",
        "According to the results from the part with three features the best performing combinations of features are 'Close, Adj Close, Volume' and 'Close, High, Low'.\n",
        "\n",
        "As we look at the remaining list of models, all the models which used 'Open' feature perfomred worse than all the others. It is reasonable to claim that open price may be slightly irrelevant. Open price is the price at which the first trade of the day occurs, so it often reflects the accumulation of overnight and weekend rumors, as market sentiment is shaped by unverified information and speculation outside of regular trading hours. It, therefore, may bring misleading ofnormation to the model and should be avoided.\n",
        "\n",
        "It is reasonable to attempt to train models for 3 and more features for all possible combinations, yet, as it was outlined in the paragraph above, open price may be misleading, so it will be exluded from the list of features for this part."
      ],
      "metadata": {
        "id": "mnMgOicUKLcR"
      }
    },
    {
      "cell_type": "markdown",
      "source": [
        "## Four Features\n",
        "\n"
      ],
      "metadata": {
        "id": "tcRRHLLXabj9"
      }
    },
    {
      "cell_type": "code",
      "source": [
        "# adjusting the features for this part\n",
        "all_data = [close_vals, high_vals, low_vals, adj_close_vals, volume_vals]\n",
        "all_data_names = [\"Close\", \"High\", \"Low\", \"Adj Close\", \"Volume\"]\n",
        "\n",
        "four_feature_results = test_feature_set(num_features = 4, num_epochs = 100, time_step = 40, data_processing_function = get_data_raw)\n",
        "\n",
        "# returning the features to the original state\n",
        "all_data = [close_vals, open_vals, high_vals, low_vals, adj_close_vals, volume_vals]\n",
        "all_data_names = [\"Close\", \"Open\", \"High\", \"Low\", \"Adj Close\", \"Volume\"]"
      ],
      "metadata": {
        "colab": {
          "base_uri": "https://localhost:8080/"
        },
        "id": "H9EYI5_XdB3b",
        "outputId": "d1e32db3-4e2a-44a7-db2b-32f04ef0f192"
      },
      "execution_count": null,
      "outputs": [
        {
          "output_type": "stream",
          "name": "stdout",
          "text": [
            "114/114 [==============================] - 1s 5ms/step - loss: 2.5081e-04\n",
            "[(0.00025081480271182954, 'Close, High, Low, Adj Close')]\n",
            "25% progress\n",
            "114/114 [==============================] - 1s 5ms/step - loss: 2.1284e-04\n",
            "[(0.00025081480271182954, 'Close, High, Low, Adj Close'), (0.00021284236572682858, 'Close, High, Low, Volume')]\n",
            "50% progress\n",
            "114/114 [==============================] - 1s 5ms/step - loss: 1.5594e-04\n",
            "[(0.00025081480271182954, 'Close, High, Low, Adj Close'), (0.00021284236572682858, 'Close, High, Low, Volume'), (0.00015594298020005226, 'Close, High, Adj Close, Volume')]\n",
            "75% progress\n",
            "114/114 [==============================] - 1s 8ms/step - loss: 1.5777e-04\n",
            "[(0.00025081480271182954, 'Close, High, Low, Adj Close'), (0.00021284236572682858, 'Close, High, Low, Volume'), (0.00015594298020005226, 'Close, High, Adj Close, Volume'), (0.00015776506916154176, 'Close, Low, Adj Close, Volume')]\n",
            "100% progress\n"
          ]
        }
      ]
    },
    {
      "cell_type": "code",
      "source": [
        "four_feature_results.sort()\n",
        "print(four_feature_results)\n",
        "print(four_feature_results[0])"
      ],
      "metadata": {
        "colab": {
          "base_uri": "https://localhost:8080/"
        },
        "id": "dDw6ATfQdbXJ",
        "outputId": "0a405f78-40dd-409b-d017-ef5055bd53ba"
      },
      "execution_count": null,
      "outputs": [
        {
          "output_type": "stream",
          "name": "stdout",
          "text": [
            "[(0.00015594298020005226, 'Close, High, Adj Close, Volume'), (0.00015776506916154176, 'Close, Low, Adj Close, Volume'), (0.00021284236572682858, 'Close, High, Low, Volume'), (0.00025081480271182954, 'Close, High, Low, Adj Close')]\n",
            "(0.00015594298020005226, 'Close, High, Adj Close, Volume')\n"
          ]
        }
      ]
    },
    {
      "cell_type": "markdown",
      "source": [
        "## Five Features"
      ],
      "metadata": {
        "id": "9PmGXnq77yKr"
      }
    },
    {
      "cell_type": "code",
      "source": [
        "# adjusting the features for this part\n",
        "all_data = [close_vals, high_vals, low_vals, adj_close_vals, volume_vals]\n",
        "all_data_names = [\"Close\", \"High\", \"Low\", \"Adj Close\", \"Volume\"]\n",
        "\n",
        "five_feature_results = test_feature_set(num_features = 5, num_epochs = 100, time_step = 40, data_processing_function = get_data_raw)\n",
        "\n",
        "# returning the features to the original state\n",
        "all_data = [close_vals, open_vals, high_vals, low_vals, adj_close_vals, volume_vals]\n",
        "all_data_names = [\"Close\", \"Open\", \"High\", \"Low\", \"Adj Close\", \"Volume\"]"
      ],
      "metadata": {
        "colab": {
          "base_uri": "https://localhost:8080/"
        },
        "id": "XQF3bNwbnGpM",
        "outputId": "450e5889-af64-41c7-8605-c47523d7a46d"
      },
      "execution_count": null,
      "outputs": [
        {
          "output_type": "stream",
          "name": "stdout",
          "text": [
            "135/135 [==============================] - 1s 5ms/step - loss: 1.9056e-04\n",
            "[(0.00019055783923249692, 'Close, High, Low, Adj Close, Volume')]\n",
            "100% progress\n"
          ]
        }
      ]
    },
    {
      "cell_type": "code",
      "source": [
        "five_feature_results.sort()\n",
        "print(five_feature_results)\n",
        "print(five_feature_results[0])"
      ],
      "metadata": {
        "colab": {
          "base_uri": "https://localhost:8080/"
        },
        "id": "HyxfNUWFnKMK",
        "outputId": "b4823a73-fe3e-47f9-8b85-6955070e038e"
      },
      "execution_count": null,
      "outputs": [
        {
          "output_type": "stream",
          "name": "stdout",
          "text": [
            "[(0.00019055783923249692, 'Close, High, Low, Adj Close, Volume')]\n",
            "(0.00019055783923249692, 'Close, High, Low, Adj Close, Volume')\n"
          ]
        }
      ]
    },
    {
      "cell_type": "markdown",
      "source": [
        "## Conclusion\n",
        "\n",
        "As can be seen from the results for different number of features, the most succesful models are the ones that use three features. That most likely happens due to the model's inability to focus on important features when there is a great varity of them, forcing the model to potential overfitting. It is, therefore, reasonable to use 'Close', \"Adj Close' and 'Volume' features for future model training."
      ],
      "metadata": {
        "id": "nM3MQ9eO73Dt"
      }
    },
    {
      "cell_type": "markdown",
      "source": [
        "# Structure of the Neural Network"
      ],
      "metadata": {
        "id": "emw0fNuW8gUc"
      }
    },
    {
      "cell_type": "markdown",
      "source": [
        "## Intro\n",
        "\n",
        "In this part of the research I evaluate the most efficient structure of the neural network. Since the learning process take extremely large amounts of time for this neural network, the layer structure of the network is simplified to just one RNN layer and one output layer. The goal of this part of the project is to see how the number of units in RNN layer affects the performance. This will be done by training networks with different number of units and comparing the results."
      ],
      "metadata": {
        "id": "Qsu9ol1J8k4t"
      }
    },
    {
      "cell_type": "markdown",
      "source": [
        "## Evaluating the Optimal Number of Units on a Large Scale"
      ],
      "metadata": {
        "id": "MstRBAF3_tHB"
      }
    },
    {
      "cell_type": "code",
      "source": [
        "# obtaining the results for different number of units\n",
        "\n",
        "large_num_units_results = test_number_units(start = 5, end = 300, step = 30, num_epochs = 10, data_array = [close_vals, adj_close_vals, volume_vals])"
      ],
      "metadata": {
        "colab": {
          "base_uri": "https://localhost:8080/"
        },
        "id": "_PdxcOaaATd1",
        "outputId": "2fc00d70-485f-49c6-c6d2-649609198217"
      },
      "execution_count": null,
      "outputs": [
        {
          "output_type": "stream",
          "name": "stdout",
          "text": [
            "116/116 [==============================] - 1s 5ms/step - loss: 1.7452e-04\n",
            "10% progress\n",
            "116/116 [==============================] - 1s 5ms/step - loss: 9.8096e-05\n",
            "20% progress\n",
            "116/116 [==============================] - 1s 5ms/step - loss: 1.4302e-04\n",
            "30% progress\n",
            "116/116 [==============================] - 1s 5ms/step - loss: 1.1761e-04\n",
            "40% progress\n",
            "116/116 [==============================] - 1s 7ms/step - loss: 2.1161e-04\n",
            "50% progress\n",
            "116/116 [==============================] - 1s 9ms/step - loss: 1.0414e-04\n",
            "61% progress\n",
            "116/116 [==============================] - 1s 5ms/step - loss: 1.2075e-04\n",
            "71% progress\n",
            "116/116 [==============================] - 32s 5ms/step - loss: 1.7585e-04\n",
            "81% progress\n",
            "116/116 [==============================] - 1s 8ms/step - loss: 1.1705e-04\n",
            "91% progress\n",
            "116/116 [==============================] - 1s 8ms/step - loss: 1.1112e-04\n",
            "101% progress\n"
          ]
        }
      ]
    },
    {
      "cell_type": "code",
      "source": [
        "# plotting the results\n",
        "graph_MSE_vs_num_units(large_num_units_results, \"Mean Squared Error vs Number of Units in RNN, Large Scale\")"
      ],
      "metadata": {
        "colab": {
          "base_uri": "https://localhost:8080/",
          "height": 472
        },
        "id": "bTpE1pyQA1HN",
        "outputId": "0971c3dd-1dce-4add-bccd-3dc034aa6db8"
      },
      "execution_count": null,
      "outputs": [
        {
          "output_type": "display_data",
          "data": {
            "text/plain": [
              "<Figure size 640x480 with 1 Axes>"
            ],
            "image/png": "[encoded data removed]"
          },
          "metadata": {}
        }
      ]
    },
    {
      "cell_type": "code",
      "source": [
        "# obtaining top 3 values\n",
        "\n",
        "large_num_units_results.sort()\n",
        "print(large_num_units_results[ : 3])"
      ],
      "metadata": {
        "colab": {
          "base_uri": "https://localhost:8080/"
        },
        "id": "ljiyWGNeBY-k",
        "outputId": "6d062aae-8ed3-4479-9b31-cbf866bbc11c"
      },
      "execution_count": null,
      "outputs": [
        {
          "output_type": "stream",
          "name": "stdout",
          "text": [
            "[(9.8096439614892e-05, 35), (0.00010414481221232563, 155), (0.00011112271749880165, 275)]\n"
          ]
        }
      ]
    },
    {
      "cell_type": "markdown",
      "source": [
        "It is clear from the results that there are some ranges for the number of units, for which the neural network performs better. Those incluse the range around 35 units and the range around 155 units (there is also a decent results for 275, but at this point the network is most likely extremely complicated and)."
      ],
      "metadata": {
        "id": "01oo3Ew8MoNI"
      }
    },
    {
      "cell_type": "markdown",
      "source": [
        "## Evaluating the Optimal Number of Units on a Small Scale"
      ],
      "metadata": {
        "id": "oYXZdkNuNFTT"
      }
    },
    {
      "cell_type": "code",
      "source": [
        "# obtaining the results for different number of units\n",
        "\n",
        "small_num_units_results_1 = test_number_units(start = 20, end = 50, step = 5, num_epochs = 10, data_array = [close_vals, adj_close_vals, volume_vals])"
      ],
      "metadata": {
        "colab": {
          "base_uri": "https://localhost:8080/"
        },
        "id": "od9QEkHKNHIJ",
        "outputId": "bfcc5600-3bd7-47b4-f79d-26fdc7780e89"
      },
      "execution_count": null,
      "outputs": [
        {
          "metadata": {
            "tags": null
          },
          "name": "stdout",
          "output_type": "stream",
          "text": [
            "116/116 [==============================] - 1s 8ms/step - loss: 1.2046e-04\n",
            "16% progress\n",
            "116/116 [==============================] - 1s 5ms/step - loss: 1.5037e-04\n",
            "33% progress\n",
            "116/116 [==============================] - 1s 5ms/step - loss: 1.1278e-04\n",
            "50% progress\n",
            "116/116 [==============================] - 1s 5ms/step - loss: 1.2527e-04\n",
            "66% progress\n",
            "116/116 [==============================] - 1s 6ms/step - loss: 1.2861e-04\n",
            "83% progress\n",
            "116/116 [==============================] - 1s 5ms/step - loss: 1.2074e-04\n",
            "100% progress\n"
          ]
        }
      ]
    },
    {
      "cell_type": "code",
      "source": [
        "# plotting the results\n",
        "graph_MSE_vs_num_units(small_num_units_results_1, \"Mean Squared Error vs Number of Units in RNN, Small Scale 1\")"
      ],
      "metadata": {
        "colab": {
          "base_uri": "https://localhost:8080/",
          "height": 472
        },
        "id": "tJ6tLGlxNUn9",
        "outputId": "acede81f-8496-4e35-a763-9857ced99d7f"
      },
      "execution_count": null,
      "outputs": [
        {
          "output_type": "display_data",
          "data": {
            "text/plain": [
              "<Figure size 640x480 with 1 Axes>"
            ],
            "image/png": "[encoded data removed]"
          },
          "metadata": {}
        }
      ]
    },
    {
      "cell_type": "code",
      "source": [
        "# obtaining top 3 values\n",
        "\n",
        "small_num_units_results_1.sort()\n",
        "print(small_num_units_results_1[ : 3])"
      ],
      "metadata": {
        "colab": {
          "base_uri": "https://localhost:8080/"
        },
        "id": "WqLkCRJsNZI2",
        "outputId": "a0268178-01ab-4354-a333-83b99666e68f"
      },
      "execution_count": null,
      "outputs": [
        {
          "output_type": "stream",
          "name": "stdout",
          "text": [
            "[(0.00011278290912741795, 30), (0.00012045714538544416, 20), (0.00012073999096173793, 45)]\n"
          ]
        }
      ]
    },
    {
      "cell_type": "code",
      "source": [
        "# obtaining the results for different number of units\n",
        "\n",
        "small_num_units_results_2 = test_number_units(start = 140, end = 170, step = 5, num_epochs = 10, data_array = [close_vals, adj_close_vals, volume_vals])"
      ],
      "metadata": {
        "colab": {
          "base_uri": "https://localhost:8080/"
        },
        "id": "mWn4RdQMNbrL",
        "outputId": "2afed026-63cc-424f-d473-924a0c9595da"
      },
      "execution_count": null,
      "outputs": [
        {
          "output_type": "stream",
          "name": "stdout",
          "text": [
            "116/116 [==============================] - 1s 7ms/step - loss: 1.0376e-04\n",
            "16% progress\n",
            "116/116 [==============================] - 1s 5ms/step - loss: 1.4122e-04\n",
            "33% progress\n",
            "116/116 [==============================] - 1s 6ms/step - loss: 1.1057e-04\n",
            "50% progress\n",
            "116/116 [==============================] - 1s 7ms/step - loss: 1.5859e-04\n",
            "66% progress\n",
            "116/116 [==============================] - 1s 5ms/step - loss: 1.6969e-04\n",
            "83% progress\n",
            "116/116 [==============================] - 1s 5ms/step - loss: 1.2771e-04\n",
            "100% progress\n"
          ]
        }
      ]
    },
    {
      "cell_type": "code",
      "source": [
        "# plotting the results\n",
        "graph_MSE_vs_num_units(small_num_units_results_2, \"Mean Squared Error vs Number of Units in RNN, Small Scale 2\")"
      ],
      "metadata": {
        "colab": {
          "base_uri": "https://localhost:8080/",
          "height": 472
        },
        "id": "TSJMUGgENirF",
        "outputId": "54c0da8e-6bcf-42c5-ef31-bda591094c54"
      },
      "execution_count": null,
      "outputs": [
        {
          "output_type": "display_data",
          "data": {
            "text/plain": [
              "<Figure size 640x480 with 1 Axes>"
            ],
            "image/png": "[encoded data removed]"
          },
          "metadata": {}
        }
      ]
    },
    {
      "cell_type": "code",
      "source": [
        "# obtaining top 3 values\n",
        "\n",
        "small_num_units_results_2.sort()\n",
        "print(small_num_units_results_2[ : 3])"
      ],
      "metadata": {
        "colab": {
          "base_uri": "https://localhost:8080/"
        },
        "id": "BhGm9MGdNmJL",
        "outputId": "0f9e06b7-d101-4d12-e54d-d2fd93c51964"
      },
      "execution_count": null,
      "outputs": [
        {
          "output_type": "stream",
          "name": "stdout",
          "text": [
            "[(0.0001037597976392135, 140), (0.00011057496158173308, 150), (0.00012771420006174594, 165)]\n"
          ]
        }
      ]
    },
    {
      "cell_type": "markdown",
      "source": [
        "## Conclusion\n",
        "\n",
        "We can see that on a smaller scale both ranges of values perform similarly. It is reasonable to claim that the network with larger number of units was able to notice a more complex correlation between the data. Therefore, there is a potential that the performance of the 140 units network will be inmproved with longer training times, so that is the value I will be using in the future."
      ],
      "metadata": {
        "id": "zmDEk3cuKueN"
      }
    },
    {
      "cell_type": "markdown",
      "source": [
        "# Evaluating the Final Model"
      ],
      "metadata": {
        "id": "kL8K0twXRVC7"
      }
    },
    {
      "cell_type": "markdown",
      "source": [
        "## Intro\n",
        "\n",
        "In this part I apply all the results obtained from previous part to create, train and evaluate the best-performing model."
      ],
      "metadata": {
        "id": "eCA__X-uNPiC"
      }
    },
    {
      "cell_type": "markdown",
      "source": [
        "## Training the Model"
      ],
      "metadata": {
        "id": "ISEKJz-BRX15"
      }
    },
    {
      "cell_type": "code",
      "source": [
        "# preparing the data\n",
        "X, y = get_data_raw([close_vals, adj_close_vals, volume_vals], 40)\n",
        "X_train, X_test, y_train, y_test = train_test_split(X, y, test_size = 0.2)\n",
        "\n",
        "# creating a model\n",
        "model_final = Sequential()\n",
        "model_final.add(SimpleRNN(units = 140, activation = 'relu', input_shape = (X_train.shape[1], X_train.shape[2])))\n",
        "model_final.add(Dense(units = 1))\n",
        "model_final.compile(optimizer = 'adam', loss = 'mean_squared_error')\n",
        "\n",
        "# training the model\n",
        "model_final.fit(X_train, y_train, epochs = 100, batch_size = 32, verbose = 1)"
      ],
      "metadata": {
        "colab": {
          "base_uri": "https://localhost:8080/"
        },
        "id": "0K7tlwg4RhDE",
        "outputId": "21c61aca-dea5-4b84-d847-2235c0eab0d6"
      },
      "execution_count": 30,
      "outputs": [
        {
          "output_type": "stream",
          "name": "stdout",
          "text": [
            "Epoch 1/100\n",
            "464/464 [==============================] - 21s 32ms/step - loss: 0.0011\n",
            "Epoch 2/100\n",
            "464/464 [==============================] - 14s 31ms/step - loss: 1.8587e-04\n",
            "Epoch 3/100\n",
            "464/464 [==============================] - 15s 32ms/step - loss: 1.4208e-04\n",
            "Epoch 4/100\n",
            "464/464 [==============================] - 14s 30ms/step - loss: 1.3318e-04\n",
            "Epoch 5/100\n",
            "464/464 [==============================] - 13s 27ms/step - loss: 1.3291e-04\n",
            "Epoch 6/100\n",
            "464/464 [==============================] - 14s 30ms/step - loss: 1.2119e-04\n",
            "Epoch 7/100\n",
            "464/464 [==============================] - 15s 31ms/step - loss: 1.2780e-04\n",
            "Epoch 8/100\n",
            "464/464 [==============================] - 14s 31ms/step - loss: 1.2983e-04\n",
            "Epoch 9/100\n",
            "464/464 [==============================] - 14s 31ms/step - loss: 1.2475e-04\n",
            "Epoch 10/100\n",
            "464/464 [==============================] - 14s 31ms/step - loss: 1.2827e-04\n",
            "Epoch 11/100\n",
            "464/464 [==============================] - 13s 27ms/step - loss: 1.2785e-04\n",
            "Epoch 12/100\n",
            "464/464 [==============================] - 14s 29ms/step - loss: 1.2118e-04\n",
            "Epoch 13/100\n",
            "464/464 [==============================] - 15s 31ms/step - loss: 1.2344e-04\n",
            "Epoch 14/100\n",
            "464/464 [==============================] - 15s 32ms/step - loss: 1.2576e-04\n",
            "Epoch 15/100\n",
            "464/464 [==============================] - 15s 32ms/step - loss: 1.2249e-04\n",
            "Epoch 16/100\n",
            "464/464 [==============================] - 15s 32ms/step - loss: 1.2362e-04\n",
            "Epoch 17/100\n",
            "464/464 [==============================] - 13s 29ms/step - loss: 1.2474e-04\n",
            "Epoch 18/100\n",
            "464/464 [==============================] - 13s 28ms/step - loss: 1.1887e-04\n",
            "Epoch 19/100\n",
            "464/464 [==============================] - 15s 32ms/step - loss: 1.2407e-04\n",
            "Epoch 20/100\n",
            "464/464 [==============================] - 15s 31ms/step - loss: 1.1661e-04\n",
            "Epoch 21/100\n",
            "464/464 [==============================] - 15s 31ms/step - loss: 1.2074e-04\n",
            "Epoch 22/100\n",
            "464/464 [==============================] - 15s 31ms/step - loss: 1.1634e-04\n",
            "Epoch 23/100\n",
            "464/464 [==============================] - 14s 29ms/step - loss: 1.2160e-04\n",
            "Epoch 24/100\n",
            "464/464 [==============================] - 13s 27ms/step - loss: 1.2064e-04\n",
            "Epoch 25/100\n",
            "464/464 [==============================] - 14s 31ms/step - loss: 1.1537e-04\n",
            "Epoch 26/100\n",
            "464/464 [==============================] - 14s 30ms/step - loss: 1.2134e-04\n",
            "Epoch 27/100\n",
            "464/464 [==============================] - 15s 32ms/step - loss: 1.1937e-04\n",
            "Epoch 28/100\n",
            "464/464 [==============================] - 14s 31ms/step - loss: 1.1982e-04\n",
            "Epoch 29/100\n",
            "464/464 [==============================] - 13s 29ms/step - loss: 1.1523e-04\n",
            "Epoch 30/100\n",
            "464/464 [==============================] - 13s 28ms/step - loss: 1.1453e-04\n",
            "Epoch 31/100\n",
            "464/464 [==============================] - 14s 31ms/step - loss: 1.1436e-04\n",
            "Epoch 32/100\n",
            "464/464 [==============================] - 15s 32ms/step - loss: 1.1478e-04\n",
            "Epoch 33/100\n",
            "464/464 [==============================] - 14s 31ms/step - loss: 1.1360e-04\n",
            "Epoch 34/100\n",
            "464/464 [==============================] - 15s 32ms/step - loss: 1.1892e-04\n",
            "Epoch 35/100\n",
            "464/464 [==============================] - 14s 31ms/step - loss: 1.2199e-04\n",
            "Epoch 36/100\n",
            "464/464 [==============================] - 13s 29ms/step - loss: 1.1724e-04\n",
            "Epoch 37/100\n",
            "464/464 [==============================] - 18s 39ms/step - loss: 1.1577e-04\n",
            "Epoch 38/100\n",
            "464/464 [==============================] - 15s 32ms/step - loss: 1.1558e-04\n",
            "Epoch 39/100\n",
            "464/464 [==============================] - 15s 32ms/step - loss: 1.1281e-04\n",
            "Epoch 40/100\n",
            "464/464 [==============================] - 15s 32ms/step - loss: 1.1652e-04\n",
            "Epoch 41/100\n",
            "464/464 [==============================] - 13s 28ms/step - loss: 1.1392e-04\n",
            "Epoch 42/100\n",
            "464/464 [==============================] - 14s 30ms/step - loss: 1.1358e-04\n",
            "Epoch 43/100\n",
            "464/464 [==============================] - 15s 32ms/step - loss: 1.1403e-04\n",
            "Epoch 44/100\n",
            "464/464 [==============================] - 15s 32ms/step - loss: 1.1720e-04\n",
            "Epoch 45/100\n",
            "464/464 [==============================] - 15s 32ms/step - loss: 1.1339e-04\n",
            "Epoch 46/100\n",
            "464/464 [==============================] - 15s 32ms/step - loss: 1.1627e-04\n",
            "Epoch 47/100\n",
            "464/464 [==============================] - 14s 31ms/step - loss: 1.1235e-04\n",
            "Epoch 48/100\n",
            "464/464 [==============================] - 13s 28ms/step - loss: 1.1564e-04\n",
            "Epoch 49/100\n",
            "464/464 [==============================] - 14s 29ms/step - loss: 1.1264e-04\n",
            "Epoch 50/100\n",
            "464/464 [==============================] - 15s 32ms/step - loss: 1.1456e-04\n",
            "Epoch 51/100\n",
            "464/464 [==============================] - 15s 31ms/step - loss: 1.1519e-04\n",
            "Epoch 52/100\n",
            "464/464 [==============================] - 15s 32ms/step - loss: 1.1477e-04\n",
            "Epoch 53/100\n",
            "464/464 [==============================] - 15s 32ms/step - loss: 1.1261e-04\n",
            "Epoch 54/100\n",
            "464/464 [==============================] - 13s 29ms/step - loss: 1.1264e-04\n",
            "Epoch 55/100\n",
            "464/464 [==============================] - 14s 29ms/step - loss: 1.1396e-04\n",
            "Epoch 56/100\n",
            "464/464 [==============================] - 15s 31ms/step - loss: 1.1610e-04\n",
            "Epoch 57/100\n",
            "464/464 [==============================] - 15s 32ms/step - loss: 1.1087e-04\n",
            "Epoch 58/100\n",
            "464/464 [==============================] - 15s 32ms/step - loss: 1.1276e-04\n",
            "Epoch 59/100\n",
            "464/464 [==============================] - 15s 32ms/step - loss: 1.1210e-04\n",
            "Epoch 60/100\n",
            "464/464 [==============================] - 15s 32ms/step - loss: 1.1397e-04\n",
            "Epoch 61/100\n",
            "464/464 [==============================] - 13s 29ms/step - loss: 1.1319e-04\n",
            "Epoch 62/100\n",
            "464/464 [==============================] - 13s 27ms/step - loss: 1.1293e-04\n",
            "Epoch 63/100\n",
            "464/464 [==============================] - 14s 31ms/step - loss: 1.1349e-04\n",
            "Epoch 64/100\n",
            "464/464 [==============================] - 14s 31ms/step - loss: 1.1557e-04\n",
            "Epoch 65/100\n",
            "464/464 [==============================] - 15s 32ms/step - loss: 1.1165e-04\n",
            "Epoch 66/100\n",
            "464/464 [==============================] - 14s 31ms/step - loss: 1.1277e-04\n",
            "Epoch 67/100\n",
            "464/464 [==============================] - 14s 30ms/step - loss: 1.0937e-04\n",
            "Epoch 68/100\n",
            "464/464 [==============================] - 12s 26ms/step - loss: 1.1293e-04\n",
            "Epoch 69/100\n",
            "464/464 [==============================] - 14s 30ms/step - loss: 1.1372e-04\n",
            "Epoch 70/100\n",
            "464/464 [==============================] - 14s 30ms/step - loss: 1.1325e-04\n",
            "Epoch 71/100\n",
            "464/464 [==============================] - 14s 31ms/step - loss: 1.1166e-04\n",
            "Epoch 72/100\n",
            "464/464 [==============================] - 14s 31ms/step - loss: 1.1141e-04\n",
            "Epoch 73/100\n",
            "464/464 [==============================] - 13s 29ms/step - loss: 1.0962e-04\n",
            "Epoch 74/100\n",
            "464/464 [==============================] - 13s 28ms/step - loss: 1.1195e-04\n",
            "Epoch 75/100\n",
            "464/464 [==============================] - 14s 31ms/step - loss: 1.1099e-04\n",
            "Epoch 76/100\n",
            "464/464 [==============================] - 15s 32ms/step - loss: 1.1081e-04\n",
            "Epoch 77/100\n",
            "464/464 [==============================] - 14s 31ms/step - loss: 1.1245e-04\n",
            "Epoch 78/100\n",
            "464/464 [==============================] - 14s 30ms/step - loss: 1.1232e-04\n",
            "Epoch 79/100\n",
            "464/464 [==============================] - 13s 28ms/step - loss: 1.1259e-04\n",
            "Epoch 80/100\n",
            "464/464 [==============================] - 12s 26ms/step - loss: 1.1793e-04\n",
            "Epoch 81/100\n",
            "464/464 [==============================] - 14s 30ms/step - loss: 1.1134e-04\n",
            "Epoch 82/100\n",
            "464/464 [==============================] - 14s 30ms/step - loss: 1.1076e-04\n",
            "Epoch 83/100\n",
            "464/464 [==============================] - 14s 30ms/step - loss: 1.1211e-04\n",
            "Epoch 84/100\n",
            "464/464 [==============================] - 13s 29ms/step - loss: 1.1201e-04\n",
            "Epoch 85/100\n",
            "464/464 [==============================] - 12s 26ms/step - loss: 1.1326e-04\n",
            "Epoch 86/100\n",
            "464/464 [==============================] - 13s 28ms/step - loss: 1.1195e-04\n",
            "Epoch 87/100\n",
            "464/464 [==============================] - 14s 30ms/step - loss: 1.1133e-04\n",
            "Epoch 88/100\n",
            "464/464 [==============================] - 15s 31ms/step - loss: 1.1281e-04\n",
            "Epoch 89/100\n",
            "464/464 [==============================] - 16s 35ms/step - loss: 1.1435e-04\n",
            "Epoch 90/100\n",
            "464/464 [==============================] - 14s 30ms/step - loss: 1.0964e-04\n",
            "Epoch 91/100\n",
            "464/464 [==============================] - 13s 28ms/step - loss: 1.1107e-04\n",
            "Epoch 92/100\n",
            "464/464 [==============================] - 12s 27ms/step - loss: 1.1092e-04\n",
            "Epoch 93/100\n",
            "464/464 [==============================] - 14s 29ms/step - loss: 1.1332e-04\n",
            "Epoch 94/100\n",
            "464/464 [==============================] - 14s 31ms/step - loss: 1.1262e-04\n",
            "Epoch 95/100\n",
            "464/464 [==============================] - 14s 30ms/step - loss: 1.1118e-04\n",
            "Epoch 96/100\n",
            "464/464 [==============================] - 14s 30ms/step - loss: 1.1027e-04\n",
            "Epoch 97/100\n",
            "464/464 [==============================] - 13s 27ms/step - loss: 1.1415e-04\n",
            "Epoch 98/100\n",
            "464/464 [==============================] - 13s 29ms/step - loss: 1.1117e-04\n",
            "Epoch 99/100\n",
            "464/464 [==============================] - 14s 30ms/step - loss: 1.1339e-04\n",
            "Epoch 100/100\n",
            "464/464 [==============================] - 14s 30ms/step - loss: 1.1032e-04\n"
          ]
        },
        {
          "output_type": "execute_result",
          "data": {
            "text/plain": [
              "<keras.src.callbacks.History at 0x7ff838ce07f0>"
            ]
          },
          "metadata": {},
          "execution_count": 30
        }
      ]
    },
    {
      "cell_type": "markdown",
      "source": [
        "## Mean Squared Error Loss on Testing Set"
      ],
      "metadata": {
        "id": "_IigYNIywHvC"
      }
    },
    {
      "cell_type": "code",
      "source": [
        "print(\"Mean Squared Error on the Testing Set is\", model_final.evaluate(X_test, y_test))"
      ],
      "metadata": {
        "colab": {
          "base_uri": "https://localhost:8080/"
        },
        "id": "d0mYka49wR5E",
        "outputId": "3c569d70-3c97-4aec-a6f0-41baa32f71e6"
      },
      "execution_count": null,
      "outputs": [
        {
          "output_type": "stream",
          "name": "stdout",
          "text": [
            "116/116 [==============================] - 1s 5ms/step - loss: 1.1354e-04\n",
            "Mean Squared Error on the Testing Set is  0.00011353728041285649\n"
          ]
        }
      ]
    },
    {
      "cell_type": "markdown",
      "source": [
        "## Directional Accuracy Evaluation"
      ],
      "metadata": {
        "id": "NGvrWMmDRw96"
      }
    },
    {
      "cell_type": "code",
      "source": [
        "dir_accuracy = get_directional_accuracy(model_final, [close_vals, adj_close_vals, volume_vals])\n",
        "print(\"Directional Accuracy of the Model is \" + str(round(100 * dir_accuracy, 2)) + \"%\")"
      ],
      "metadata": {
        "colab": {
          "base_uri": "https://localhost:8080/"
        },
        "id": "pGqv__htR8IM",
        "outputId": "6a716e56-6bb3-457b-cab8-88a7c7fe4c66"
      },
      "execution_count": null,
      "outputs": [
        {
          "output_type": "stream",
          "name": "stdout",
          "text": [
            "Directional Accuracy of the Model is 87.29%\n"
          ]
        }
      ]
    },
    {
      "cell_type": "markdown",
      "source": [
        "## Trading Strategy Profit"
      ],
      "metadata": {
        "id": "QWW2S2QMSB4i"
      }
    },
    {
      "cell_type": "markdown",
      "source": [
        "### Random Stock"
      ],
      "metadata": {
        "id": "HwYfgNEEt9zb"
      }
    },
    {
      "cell_type": "code",
      "source": [
        "# obtaining the results for 3 random stocks\n",
        "\n",
        "avg_annual_profit_rand, avg_ROI_rand, avg_annual_return_rand = get_avergage_profit_random_stocks(model_final, 3, \"/content/drive/MyDrive/Colab Notebooks/stocks\")"
      ],
      "metadata": {
        "colab": {
          "base_uri": "https://localhost:8080/"
        },
        "id": "RurkGd52c3iq",
        "outputId": "3b423795-6982-41d4-8fd7-642b3a9622af"
      },
      "execution_count": 45,
      "outputs": [
        {
          "output_type": "stream",
          "name": "stdout",
          "text": [
            "Stock: CBSHP\n",
            "Return On Investment: 11.1%\n",
            "Annual Return: 2.74%\n",
            "Annual Profit: 9.55$\n",
            "\n",
            "Stock: CINR\n",
            "Return On Investment: 11.11%\n",
            "Annual Return: 2.42%\n",
            "Annual Profit: 10.27$\n",
            "\n",
            "Stock: BKTI\n",
            "Return On Investment: 30.71%\n",
            "Annual Return: 0.98%\n",
            "Annual Profit: 4.11$\n",
            "\n"
          ]
        }
      ]
    },
    {
      "cell_type": "code",
      "source": [
        "# printing the average results\n",
        "\n",
        "print(\"Return On Investment: \" + str(round(100 * avg_ROI_rand, 2)) + \"%\")\n",
        "print(\"Annual Return: \" + str(round(100 * avg_annual_return_rand, 2)) + \"%\")\n",
        "print(\"Annual Profit: \" + str(round(avg_annual_profit_rand, 2)) + \"$\")"
      ],
      "metadata": {
        "colab": {
          "base_uri": "https://localhost:8080/"
        },
        "id": "RL_CrPNtc5Wm",
        "outputId": "0b66d0dc-1c20-41ae-a90f-267b1a5a69a2"
      },
      "execution_count": 46,
      "outputs": [
        {
          "output_type": "stream",
          "name": "stdout",
          "text": [
            "Return On Investment: 17.64%\n",
            "Annual Return: 2.05%\n",
            "Annual Profit: 7.98$\n"
          ]
        }
      ]
    },
    {
      "cell_type": "markdown",
      "source": [
        "### Microsoft, Amazon, Tesla Stocks"
      ],
      "metadata": {
        "id": "LOY63ieEuAHI"
      }
    },
    {
      "cell_type": "markdown",
      "source": [
        "#### Obtaining the Results"
      ],
      "metadata": {
        "id": "yNNHgVDKc820"
      }
    },
    {
      "cell_type": "code",
      "source": [
        "annual_profit_MSFT, ROI_MSFT, annual_return_MSFT = get_average_profit_specific_stock(model_final, \"/content/drive/MyDrive/Colab Notebooks/stocks\", \"MSFT\")\n",
        "annual_profit_AMZN, ROI_AMZN, annual_return_AMZN = get_average_profit_specific_stock(model_final, \"/content/drive/MyDrive/Colab Notebooks/stocks\", \"AMZN\")\n",
        "annual_profit_TSLA, ROI_TSLA, annual_return_TSLA = get_average_profit_specific_stock(model_final, \"/content/drive/MyDrive/Colab Notebooks/stocks\", \"TSLA\")"
      ],
      "metadata": {
        "id": "A7VUjWVLc_zY"
      },
      "execution_count": 31,
      "outputs": []
    },
    {
      "cell_type": "markdown",
      "source": [
        "#### Return On Investment Values"
      ],
      "metadata": {
        "id": "xs1qSsjAdFyd"
      }
    },
    {
      "cell_type": "code",
      "source": [
        "print(\"Return On Investment for Microsoft: \" + str(round(100 * ROI_MSFT, 2)) + \"%\")\n",
        "print(\"Return On Investment for Amazon: \" + str(round(100 * ROI_AMZN, 2)) + \"%\")\n",
        "print(\"Return On Investment for Tesla: \" + str(round(100 * ROI_TSLA, 2)) + \"%\")"
      ],
      "metadata": {
        "colab": {
          "base_uri": "https://localhost:8080/"
        },
        "id": "7riMBfRedHlT",
        "outputId": "e8fcdb81-8b9c-4230-d178-1b5456f93a53"
      },
      "execution_count": 32,
      "outputs": [
        {
          "output_type": "stream",
          "name": "stdout",
          "text": [
            "Return On Investment for Microsoft: 9.75%\n",
            "Return On Investment for Amazon: 14.98%\n",
            "Return On Investment for Tesla: 28.92%\n"
          ]
        }
      ]
    },
    {
      "cell_type": "markdown",
      "source": [
        "#### Annual Return Values\n"
      ],
      "metadata": {
        "id": "J-XUEtbQdH9Q"
      }
    },
    {
      "cell_type": "code",
      "source": [
        "print(\"Annual Return for Microsoft: \" + str(round(100 * annual_return_MSFT, 2)) + \"%\")\n",
        "print(\"Annual Return for Amazon: \" + str(round(100 * annual_return_AMZN, 2)) + \"%\")\n",
        "print(\"Annual Return for Tesla: \" + str(round(100 * annual_return_TSLA, 2)) + \"%\")"
      ],
      "metadata": {
        "colab": {
          "base_uri": "https://localhost:8080/"
        },
        "id": "fbpwEyE5dKWD",
        "outputId": "ef14b64c-0da9-4816-dc50-c00701cbb658"
      },
      "execution_count": 33,
      "outputs": [
        {
          "output_type": "stream",
          "name": "stdout",
          "text": [
            "Annual Return for Microsoft: 0.4%\n",
            "Annual Return for Amazon: 0.9%\n",
            "Annual Return for Tesla: 3.91%\n"
          ]
        }
      ]
    },
    {
      "cell_type": "markdown",
      "source": [
        "#### Annual Profit Values"
      ],
      "metadata": {
        "id": "Rp0KBIP3dMqw"
      }
    },
    {
      "cell_type": "code",
      "source": [
        "print(\"Annual Profit for Microsoft: \" + str(round(annual_profit_MSFT, 2)) + \"$\")\n",
        "print(\"Annual Profit for Amazon: \" + str(round(annual_profit_AMZN, 2)) + \"$\")\n",
        "print(\"Annual Profit for Tesla: \" + str(round(annual_profit_TSLA, 2)) + \"$\")"
      ],
      "metadata": {
        "colab": {
          "base_uri": "https://localhost:8080/"
        },
        "id": "K5uUMXQLdOpK",
        "outputId": "737dc710-ff78-4302-d35b-f73015f6dc6c"
      },
      "execution_count": 34,
      "outputs": [
        {
          "output_type": "stream",
          "name": "stdout",
          "text": [
            "Annual Profit for Microsoft: 2.8$\n",
            "Annual Profit for Amazon: 5.57$\n",
            "Annual Profit for Tesla: 10.05$\n"
          ]
        }
      ]
    },
    {
      "cell_type": "markdown",
      "source": [
        "## Conclusion\n",
        "\n",
        "As can be seen from the results obtained in model evaluation, it is relatively good at prediction stock prices. Directional accuracy of around 87% demonstrates model's capability of correctly identifying trends in prices. The other metrics used in this parts have their pros and cons. My main goal was to present them to give a better understanding of the effectiveness of the model. As can be seen from the results, all the additional metrics have positive results, meaning that the network provides the user with relatively safe trading advice. However, there are some flaws in the metrics. ROI is good at demonstrating total profit, but does not consider period, over which it was earned. Annual profit is crucially affected by the number of stocks that should be bough according to the stratgey (by default it is 1, so the annual profit number are not that impressive). Finally, annual return metric provides us with more or less understandable and easy to interpret data, which reflects on the effectiveness of the neural network. However, even this parameter is crucially affected by the trading strategy the neural network is used with. Since here the trading strategy is relatively basic, annual returns are positive, showing stability in predictions, yet not as large as desired, due to the simplicity of the strategy. Nevertheless, all the metricts in all tests had positive values, making it reasonable to conclude that the network is generally successful at predicting stock prices and the key to increasing the profit from trading lies in the field trading strategies, used with the model."
      ],
      "metadata": {
        "id": "QVdFtC2SdQpi"
      }
    },
    {
      "cell_type": "markdown",
      "source": [
        "# Conclusions"
      ],
      "metadata": {
        "id": "rWyljqOsSQRw"
      }
    },
    {
      "cell_type": "markdown",
      "source": [
        "Throughout the research I was able to obtain a number of interesting conclusion about the usage of RNNs for stock price prediction.\n",
        "\n",
        "It all started with the evaluation of the optimal number of timesteps needed for the model for its predictions. As the graph data showed, the best results are reached when the model knows about the data for the past 40 days, which is quite a peculiar result. It means that the data that is older than 40 days becomes slightly irrelevant and starts to distract the model from the recent and more relevant to the predictions data. Yet having information about less than 40 days also decreases the accuracy of the predictions. Reverse engineering can be conducted here to cocnlude that 40 day period can be considered the most valuable and impactful for stock trading.\n",
        "\n",
        "Another fascinating conclusion is that RNN works worse with data that is reprsented as deltas (value changes instead of raw values). However, this can be explained by the idea that deltas are effectively one day derivatives for the price data. They do not bring any new information to the dataset, yet due to them the network loses information about absolute price values, which can be extremely relevant.\n",
        "\n",
        "Another challenging task was to pick a set of features which would result in the best performance. The approach was direct: try all possible combinations and obtain compare results. As the performance improved after moving from 1 to 2 features and then from 2 to 3, I exepected that feeding more data will simply continue to inprove the results. However, the MSEs obtaining for 4 and 5 features turned out to be worse than the ones produced by best combinations of 3 features. That happened most likely due to some of the price information being effectively duplicating, as all of the price data is to some extent interconnected. That is why in the best set of features there is only two price features. It is also easy to see why Volume was among the parameters in the best feature set, as it provides the model with type of data, which is not reflected in prices. Finally, Open Price turned out to be extremely irrelevant due to market volatility in the beginning of the reading day.\n",
        "\n",
        "It was also insightful to find optimal numbers of units needed for the RNN layer. The results, contrary to the assumprion that there will be some specific number that would provide the best performance, seem to show that there is actually two such ranges of values. We can explain that by thinking about the role of units in the RNN layer. The more units there are in the layer, the more complex patterns the neural network can detect and use in its predictions. Therefore, larger numbers of units are most likely responsible for more complex patterns that may lead to better results, but will most likely require longer training.\n",
        "\n",
        "Finally, apart from obtaining a relatively low value of MSE (of an order of ten to the power of negative 4), the model performed well on the directional tests, correctly predicting the direction of the trend of the stock price in around 87% of cases. Apart from that, the results obtained from applying a basic trading strategy to the model are also satisfactory. They are based on extremely simple trading strategy with a fix investment of one stock each time, so the magnitudes are not too representative. What is much more important is that te results are positive for the stocks used, making it a relatively safe investment strategy. This makes this model somewhat useful in real life."
      ],
      "metadata": {
        "id": "vnrZIXKaSS_z"
      }
    }
  ],
  "metadata": {
    "colab": {
      "provenance": [],
      "gpuType": "T4"
    },
    "kernelspec": {
      "display_name": "Python 3",
      "name": "python3"
    },
    "language_info": {
      "name": "python"
    },
    "accelerator": "GPU"
  },
  "nbformat": 4,
  "nbformat_minor": 0
}